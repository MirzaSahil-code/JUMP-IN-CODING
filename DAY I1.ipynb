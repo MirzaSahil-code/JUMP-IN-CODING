{
 "cells": [
  {
   "cell_type": "code",
   "execution_count": 46,
   "id": "75438f42-00ba-4b76-af6c-e0886888f277",
   "metadata": {},
   "outputs": [
    {
     "name": "stdout",
     "output_type": "stream",
     "text": [
      "current hour 19\n",
      "good evening sir\n"
     ]
    }
   ],
   "source": [
    "# the time ai\n",
    "import time\n",
    "a=12\n",
    "i=time.strftime(\"%H:%M:%S\")\n",
    "hour=int(time.strftime(\"%H\"))\n",
    "print(\"current hour\",hour)\n",
    "if 5<= hour <12:\n",
    "    print(\"good morning sir\")\n",
    "elif 12<= hour <17:\n",
    "    print(\"good afternoon sir\")\n",
    "elif 17<= hour <21:\n",
    "    print(\"good evening sir\")\n",
    "else:\n",
    "    print(\"good night sir \")\n",
    "    "
   ]
  },
  {
   "cell_type": "code",
   "execution_count": 47,
   "id": "8739ace2-3ad6-4b7b-b56b-6960ca2cc654",
   "metadata": {},
   "outputs": [
    {
     "name": "stdout",
     "output_type": "stream",
     "text": [
      "8\n"
     ]
    }
   ],
   "source": [
    "# cute program ever \n",
    "def add(a, b):\n",
    "    return a + b\n",
    "\n",
    "print(add(5, 3))"
   ]
  },
  {
   "cell_type": "code",
   "execution_count": 50,
   "id": "6e33a9fa-690a-447f-a0f3-f598553e3df1",
   "metadata": {},
   "outputs": [
    {
     "name": "stdout",
     "output_type": "stream",
     "text": [
      "9\n"
     ]
    }
   ],
   "source": [
    "def find_max(lst):\n",
    "    max_val = lst[0]\n",
    "    for num in lst:\n",
    "        if num > max_val:\n",
    "            max_val = num\n",
    "    return max_val\n",
    "\n",
    "print(find_max([3, 7, 2, 9, 5])) \n",
    "\n"
   ]
  },
  {
   "cell_type": "code",
   "execution_count": null,
   "id": "48c55f3f-1ea7-41f1-98e1-a7c93e24d81d",
   "metadata": {},
   "outputs": [],
   "source": [
    "def is_palindrome(s):\n",
    "    return s == s[::-1]\n",
    "\n",
    "print(is_palindrome(\"madam\"))\n"
   ]
  }
 ],
 "metadata": {
  "kernelspec": {
   "display_name": "Python [conda env:base] *",
   "language": "python",
   "name": "conda-base-py"
  },
  "language_info": {
   "codemirror_mode": {
    "name": "ipython",
    "version": 3
   },
   "file_extension": ".py",
   "mimetype": "text/x-python",
   "name": "python",
   "nbconvert_exporter": "python",
   "pygments_lexer": "ipython3",
   "version": "3.13.5"
  }
 },
 "nbformat": 4,
 "nbformat_minor": 5
}
