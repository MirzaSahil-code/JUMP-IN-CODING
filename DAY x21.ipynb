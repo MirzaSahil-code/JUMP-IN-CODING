{
 "cells": [
  {
   "cell_type": "code",
   "execution_count": 21,
   "id": "09e24ce7-0b28-47d8-a389-300aebcff622",
   "metadata": {},
   "outputs": [
    {
     "name": "stdin",
     "output_type": "stream",
     "text": [
      "enter side: 2\n"
     ]
    },
    {
     "name": "stdout",
     "output_type": "stream",
     "text": [
      "the area of given square: 4.0\n"
     ]
    }
   ],
   "source": [
    "# area of square in new way\n",
    "def side(n1):\n",
    "    res=n1**2\n",
    "    return res\n",
    "\n",
    "i=float(input(\"enter side:\"))\n",
    "a=side(i)\n",
    "print(\"the area of given square:\",a)\n",
    "\n"
   ]
  },
  {
   "cell_type": "code",
   "execution_count": 20,
   "id": "1539af17-8946-4eb1-835e-f575b347d232",
   "metadata": {},
   "outputs": [
    {
     "name": "stdin",
     "output_type": "stream",
     "text": [
      "enter the lenght: 3\n",
      "enter the height: 3\n"
     ]
    },
    {
     "name": "stdout",
     "output_type": "stream",
     "text": [
      "the area of given ractangle: 9.0\n"
     ]
    }
   ],
   "source": [
    " # area of ractangle in new way\n",
    "def side(n1,n2):\n",
    "    res=n1*n2\n",
    "    return res\n",
    "\n",
    "l=float(input(\"enter the lenght:\"))\n",
    "h=float(input(\"enter the height:\"))\n",
    "a=side(l,h)\n",
    "print(\"the area of given ractangle:\",a)"
   ]
  },
  {
   "cell_type": "code",
   "execution_count": 23,
   "id": "1cb314e1-87ff-4981-9f2b-2988320ea644",
   "metadata": {},
   "outputs": [
    {
     "name": "stdin",
     "output_type": "stream",
     "text": [
      " 3\n",
      " 5\n"
     ]
    },
    {
     "name": "stdout",
     "output_type": "stream",
     "text": [
      "7.5\n"
     ]
    }
   ],
   "source": [
    "# area of triangle in new way\n",
    "def side(n1,n2):\n",
    "    res=n1*n2/2\n",
    "    return res\n",
    "\n",
    "l=float(input())\n",
    "h=float(input())\n",
    "a=side(l,h)\n",
    "print(a)"
   ]
  },
  {
   "cell_type": "code",
   "execution_count": 28,
   "id": "c401f1b3-5310-4cad-8e8f-30af42cd6dbe",
   "metadata": {},
   "outputs": [
    {
     "name": "stdin",
     "output_type": "stream",
     "text": [
      " 3\n"
     ]
    },
    {
     "name": "stdout",
     "output_type": "stream",
     "text": [
      "28.27431\n"
     ]
    }
   ],
   "source": [
    "# area of circle in new way\n",
    "def radius(n1):\n",
    "    res=3.14159*n1**2\n",
    "    return res\n",
    "\n",
    "r=float(input())\n",
    "a=radius(r)\n",
    "print(a)"
   ]
  },
  {
   "cell_type": "code",
   "execution_count": 31,
   "id": "70f882ad-576d-498d-988a-fa69f3e429ee",
   "metadata": {},
   "outputs": [
    {
     "name": "stdin",
     "output_type": "stream",
     "text": [
      " 2\n"
     ]
    },
    {
     "name": "stdout",
     "output_type": "stream",
     "text": [
      "even\n"
     ]
    }
   ],
   "source": [
    "# even or odd in diffrent way\n",
    "def even_odd(num):\n",
    "    if num%2 == 0:\n",
    "        return \"even\"\n",
    "    else:\n",
    "        return \"odd\"\n",
    "\n",
    "i=int(input())\n",
    "a=even_odd(i)\n",
    "print(a)"
   ]
  },
  {
   "cell_type": "code",
   "execution_count": 65,
   "id": "b8ed8bc8-d0a4-4893-8dde-886fb5038b06",
   "metadata": {},
   "outputs": [
    {
     "name": "stdin",
     "output_type": "stream",
     "text": [
      " 13\n"
     ]
    },
    {
     "name": "stdout",
     "output_type": "stream",
     "text": [
      "prime\n"
     ]
    }
   ],
   "source": [
    "## prime number or not in diffrent way\n",
    "def prime(num):\n",
    "    for i in (2,7):\n",
    "        if num%i == 0:\n",
    "            return \"not prime\"\n",
    "        else:\n",
    "            return \"prime\"\n",
    "\n",
    "n=int(input())\n",
    "a=prime(n)\n",
    "print(a)"
   ]
  },
  {
   "cell_type": "code",
   "execution_count": 13,
   "id": "dde638a8-93ff-408e-b5e9-5b76e26234b2",
   "metadata": {},
   "outputs": [
    {
     "name": "stdin",
     "output_type": "stream",
     "text": [
      "first number: 2\n",
      "what you want to do: 3\n",
      "second number: 3\n"
     ]
    },
    {
     "name": "stdout",
     "output_type": "stream",
     "text": [
      "invalid sign\n"
     ]
    }
   ],
   "source": [
    "## addition and substraction calculator\n",
    "def num(n1,n2,n3):\n",
    "    if n2==\"+\":\n",
    "        return(n1+n3)\n",
    "    elif n2==\"-\":\n",
    "        return(n1-n3)\n",
    "    else:\n",
    "       return(\"invalid sign\")\n",
    "\n",
    "\n",
    "i=int(input(\"first number:\"))\n",
    "j=str(input(\"what you want to do:\"))\n",
    "k=int(input(\"second number:\"))\n",
    "a=num(i,j,k)\n",
    "print(a)\n"
   ]
  },
  {
   "cell_type": "code",
   "execution_count": 1,
   "id": "cdcf8c77-6f97-4c61-aaa2-30819607e8f4",
   "metadata": {},
   "outputs": [
    {
     "name": "stdin",
     "output_type": "stream",
     "text": [
      "---please enter your password--- wq\n"
     ]
    },
    {
     "name": "stdout",
     "output_type": "stream",
     "text": [
      "incorrect password , please try again\n"
     ]
    },
    {
     "name": "stdin",
     "output_type": "stream",
     "text": [
      "---please enter your password--- sa\n"
     ]
    },
    {
     "name": "stdout",
     "output_type": "stream",
     "text": [
      "incorrect password , please try again\n"
     ]
    },
    {
     "name": "stdin",
     "output_type": "stream",
     "text": [
      "---please enter your password--- sahil@123\n"
     ]
    },
    {
     "name": "stdout",
     "output_type": "stream",
     "text": [
      "correct password\n"
     ]
    }
   ],
   "source": [
    "# the upgrated version of password\n",
    "def pas():\n",
    "    while True:\n",
    "        n1=input(\"---please enter your password---\")\n",
    "        if n1==(\"sahil@123\"):\n",
    "            return \"correct password\"\n",
    "        else:\n",
    "            print(\"incorrect password , please try again\")\n",
    "       \n",
    "a=pas()\n",
    "print(a)"
   ]
  },
  {
   "cell_type": "code",
   "execution_count": 11,
   "id": "16d2b892-be19-4da3-b3e9-48ff6498b976",
   "metadata": {},
   "outputs": [
    {
     "name": "stdin",
     "output_type": "stream",
     "text": [
      "table of: 7\n"
     ]
    },
    {
     "name": "stdout",
     "output_type": "stream",
     "text": [
      "7 x 1 = 7\n",
      "7 x 2 = 14\n",
      "7 x 3 = 21\n",
      "7 x 4 = 28\n",
      "7 x 5 = 35\n",
      "7 x 6 = 42\n",
      "7 x 7 = 49\n",
      "7 x 8 = 56\n",
      "7 x 9 = 63\n",
      "7 x 10 = 70\n"
     ]
    }
   ],
   "source": [
    "# the multiply table with diffrent code\n",
    "def num(n):\n",
    "    for i in range(1,11):\n",
    "       print(f\"{n} x {i} = {n*i}\")\n",
    "num(int(input(\"table of:\")))"
   ]
  },
  {
   "cell_type": "code",
   "execution_count": 15,
   "id": "80a3710f-2b66-4eb0-8a36-54a385d57914",
   "metadata": {},
   "outputs": [
    {
     "name": "stdout",
     "output_type": "stream",
     "text": [
      "[]\n",
      "[2, 3, 4, 5, 6, 7, 8, 9]\n"
     ]
    }
   ],
   "source": [
    "# simple function of for loop\n",
    "i+=1\n",
    "for a in (1,5):\n",
    "    print(list(range(i,a*i)))\n",
    "    a+=i"
   ]
  },
  {
   "cell_type": "code",
   "execution_count": null,
   "id": "4f5fc36f-5dff-48fd-97a4-69fc94b790c9",
   "metadata": {},
   "outputs": [],
   "source": []
  }
 ],
 "metadata": {
  "kernelspec": {
   "display_name": "Python [conda env:base] *",
   "language": "python",
   "name": "conda-base-py"
  },
  "language_info": {
   "codemirror_mode": {
    "name": "ipython",
    "version": 3
   },
   "file_extension": ".py",
   "mimetype": "text/x-python",
   "name": "python",
   "nbconvert_exporter": "python",
   "pygments_lexer": "ipython3",
   "version": "3.13.5"
  }
 },
 "nbformat": 4,
 "nbformat_minor": 5
}
