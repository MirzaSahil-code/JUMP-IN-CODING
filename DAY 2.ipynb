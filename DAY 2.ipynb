{
 "cells": [
  {
   "cell_type": "code",
   "execution_count": 1,
   "id": "6f7f7182-75fa-4bdb-b07c-5cfe843a28bf",
   "metadata": {},
   "outputs": [
    {
     "name": "stdin",
     "output_type": "stream",
     "text": [
      "your choose this--> 30\n"
     ]
    },
    {
     "name": "stdout",
     "output_type": "stream",
     "text": [
      "30 X 1 = 30\n",
      "30 X 2 = 60\n",
      "30 X 3 = 90\n",
      "30 X 4 = 120\n",
      "30 X 5 = 150\n",
      "30 X 6 = 180\n",
      "30 X 7 = 210\n",
      "30 X 8 = 240\n",
      "30 X 9 = 270\n",
      "30 X 10 = 300\n"
     ]
    }
   ],
   "source": [
    "# the table creator\n",
    "num=int(input(\"your choose this-->\"))\n",
    "i=1\n",
    "while(i<=10):\n",
    "     \n",
    "    print(num,\"X\",i,\"=\",num*i)\n",
    "    \n",
    "    i+=1"
   ]
  },
  {
   "cell_type": "code",
   "execution_count": 19,
   "id": "59a0673a-22bb-43cb-a30b-20f4d75dcbcb",
   "metadata": {},
   "outputs": [
    {
     "name": "stdin",
     "output_type": "stream",
     "text": [
      "number--> 4\n",
      "sign: +\n",
      "number--> 4\n"
     ]
    },
    {
     "name": "stdout",
     "output_type": "stream",
     "text": [
      "8.0\n"
     ]
    }
   ],
   "source": [
    "# perfect calculator\n",
    "a=float(input(\"number-->\"))\n",
    "b=str(input(\"sign:\"))\n",
    "c=float(input(\"number-->\"))\n",
    "if b==(\"+\"):\n",
    "    print(a+c)\n",
    "elif b==(\"-\"):\n",
    "    print(a-c)\n",
    "elif b==(\"*\"):\n",
    "    print(a*c)\n",
    "elif b==(\"/\"):\n",
    "    print(a/c)\n",
    "else:\n",
    "    print(\"invalid sign\")\n"
   ]
  },
  {
   "cell_type": "code",
   "execution_count": 17,
   "id": "44cfd18f-c68a-49ee-a2ed-1b4277133293",
   "metadata": {},
   "outputs": [
    {
     "name": "stdin",
     "output_type": "stream",
     "text": [
      "celcius--> 3\n"
     ]
    },
    {
     "name": "stdout",
     "output_type": "stream",
     "text": [
      "Fahrenheit--> 37.4\n"
     ]
    }
   ],
   "source": [
    "# celcius into Fahrenheit\n",
    "c=float(input(\"celcius-->\"))\n",
    "f=(c*9/5)+32\n",
    "print(\"Fahrenheit-->\",f)\n",
    "\n"
   ]
  },
  {
   "cell_type": "code",
   "execution_count": 12,
   "id": "a354b2bb-ce98-406a-bd4f-13bcd63070ae",
   "metadata": {},
   "outputs": [
    {
     "name": "stdin",
     "output_type": "stream",
     "text": [
      "--> 2\n",
      "--> 3\n"
     ]
    },
    {
     "name": "stdout",
     "output_type": "stream",
     "text": [
      "large number is: 3.0\n"
     ]
    }
   ],
   "source": [
    "# find the large number\n",
    "a=float(input(\"-->\"))\n",
    "b=float(input(\"-->\"))\n",
    "if (a<b):\n",
    "    print(\"large number is:\",b)\n",
    "elif(a>b):\n",
    "    print(\"large number is:\",a)\n",
    "else:\n",
    "    print(\"both are equal\")"
   ]
  },
  {
   "cell_type": "code",
   "execution_count": 16,
   "id": "89a56a63-9535-4386-b952-c9bf65568c5a",
   "metadata": {},
   "outputs": [
    {
     "name": "stdin",
     "output_type": "stream",
     "text": [
      "lenght= 3\n",
      "width= 4\n"
     ]
    },
    {
     "name": "stdout",
     "output_type": "stream",
     "text": [
      "area --> 12.0\n",
      "perimeter --> 14.0\n"
     ]
    }
   ],
   "source": [
    "# rectangle area and perimeter finder\n",
    "l=float(input(\"lenght=\"))\n",
    "w=float(input(\"width=\"))\n",
    "area=(l*w)\n",
    "peri=2+area\n",
    "print(\"area -->\",area)\n",
    "print(\"perimeter -->\",peri)\n"
   ]
  },
  {
   "cell_type": "code",
   "execution_count": 57,
   "id": "5e8abd85-d872-49e1-b4e3-7898721f2b4d",
   "metadata": {},
   "outputs": [
    {
     "name": "stdin",
     "output_type": "stream",
     "text": [
      "please enter password--> s\n",
      "please enter right password wrong\n",
      "please enter right password 123\n",
      "please enter right password sahil@123\n"
     ]
    },
    {
     "name": "stdout",
     "output_type": "stream",
     "text": [
      "right password\n"
     ]
    }
   ],
   "source": [
    "# password\n",
    "i=str(input(\"please enter password-->\"))    \n",
    "if(i==\"sahil@123\"):\n",
    "         print(\"right password\")     \n",
    "\n",
    "else:\n",
    "    while(i!=\"sahil@123\"):\n",
    "\n",
    "        i=str(input(\"please enter right password\"))    \n",
    "print(\"right password\")"
   ]
  },
  {
   "cell_type": "code",
   "execution_count": 64,
   "id": "b93a1700-cec0-40fe-9deb-98aba6e98c28",
   "metadata": {},
   "outputs": [
    {
     "name": "stdin",
     "output_type": "stream",
     "text": [
      "from--> 9\n",
      "to--> 100\n"
     ]
    },
    {
     "name": "stdout",
     "output_type": "stream",
     "text": [
      "10  11  12  13  14  15  16  17  18  19  20  21  22  23  24  25  26  27  28  29  30  31  32  33  34  35  36  37  38  39  40  41  42  43  44  45  46  47  48  49  50  51  52  53  54  55  56  57  58  59  60  61  62  63  64  65  66  67  68  69  70  71  72  73  74  75  76  77  78  79  80  81  82  83  84  85  86  87  88  89  90  91  92  93  94  95  96  97  98  99  100  "
     ]
    }
   ],
   "source": [
    "# infinite number creator\n",
    "i=int(input(\"from-->\"))\n",
    "j=int(input(\"to-->\"))\n",
    "for a in range(i,j):\n",
    "    print(a+1,end=\"  \")"
   ]
  },
  {
   "cell_type": "code",
   "execution_count": 1,
   "id": "f1f5ac01-9c07-4425-a901-41732faaf2f3",
   "metadata": {},
   "outputs": [
    {
     "name": "stdin",
     "output_type": "stream",
     "text": [
      "first style: sss\n"
     ]
    },
    {
     "name": "stdout",
     "output_type": "stream",
     "text": [
      "s\n",
      "s\n",
      "s\n"
     ]
    },
    {
     "name": "stdin",
     "output_type": "stream",
     "text": [
      " sss\n"
     ]
    },
    {
     "name": "stdout",
     "output_type": "stream",
     "text": [
      "s)_(s)_(s)_("
     ]
    }
   ],
   "source": [
    "# diffrent style name typper\n",
    "for a in input(\"first style:\"):\n",
    "    print(a)\n",
    "for a in input():\n",
    "    print(a,end=\")_(\")"
   ]
  },
  {
   "cell_type": "code",
   "execution_count": 16,
   "id": "e4884aeb-d30e-4f7d-8e62-29005be1a3b2",
   "metadata": {},
   "outputs": [
    {
     "name": "stdin",
     "output_type": "stream",
     "text": [
      "rupees-> 1000\n"
     ]
    },
    {
     "name": "stdout",
     "output_type": "stream",
     "text": [
      "$-> 11.0\n"
     ]
    },
    {
     "name": "stdin",
     "output_type": "stream",
     "text": [
      "dollar-> 10\n"
     ]
    },
    {
     "name": "stdout",
     "output_type": "stream",
     "text": [
      "₹-> 877.9000000000001\n"
     ]
    }
   ],
   "source": [
    "# the indian rupees to us dollar or dollar to indian rupees\n",
    "r=int(input(\"rupees->\"))\n",
    "d=(r*0.011)\n",
    "print(\"$->\",d)\n",
    "\n",
    "d=int(input(\"dollar->\"))\n",
    "r=(d*87.79)\n",
    "print(\"₹->\",r)\n",
    "\n"
   ]
  },
  {
   "cell_type": "code",
   "execution_count": null,
   "id": "95530714-3474-4e58-b08c-16e1905b1e9e",
   "metadata": {},
   "outputs": [
    {
     "name": "stdin",
     "output_type": "stream",
     "text": [
      "Guess a number between 1 and 100:  56\n"
     ]
    },
    {
     "name": "stdout",
     "output_type": "stream",
     "text": [
      "Too low!\n"
     ]
    },
    {
     "name": "stdin",
     "output_type": "stream",
     "text": [
      "Guess a number between 1 and 100:  1000\n",
      "Guess a number between 1 and 100:  100\n",
      "Guess a number between 1 and 100:  22\n"
     ]
    },
    {
     "name": "stdout",
     "output_type": "stream",
     "text": [
      "Too low!\n"
     ]
    },
    {
     "name": "stdin",
     "output_type": "stream",
     "text": [
      "Guess a number between 1 and 100:  33\n"
     ]
    },
    {
     "name": "stdout",
     "output_type": "stream",
     "text": [
      "Too low!\n"
     ]
    },
    {
     "name": "stdin",
     "output_type": "stream",
     "text": [
      "Guess a number between 1 and 100:  445542\n"
     ]
    }
   ],
   "source": [
    "infinite random\n",
    "import random\n",
    "\n",
    "number = random.randint(1, 100)\n",
    "guess = None\n",
    "\n",
    "while guess != number:\n",
    "    guess = int(input(\"Guess a number between 1 and 100: \"))\n",
    "   \n",
    "    if guess < number:\n",
    "        print(\"Too low!\")\n"
   ]
  },
  {
   "cell_type": "code",
   "execution_count": null,
   "id": "573bf648-a725-4541-9f97-a29ae34f6227",
   "metadata": {},
   "outputs": [],
   "source": []
  }
 ],
 "metadata": {
  "kernelspec": {
   "display_name": "Python [conda env:base] *",
   "language": "python",
   "name": "conda-base-py"
  },
  "language_info": {
   "codemirror_mode": {
    "name": "ipython",
    "version": 3
   },
   "file_extension": ".py",
   "mimetype": "text/x-python",
   "name": "python",
   "nbconvert_exporter": "python",
   "pygments_lexer": "ipython3",
   "version": "3.13.5"
  }
 },
 "nbformat": 4,
 "nbformat_minor": 5
}
