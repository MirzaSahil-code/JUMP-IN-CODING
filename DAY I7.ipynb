{
 "cells": [
  {
   "cell_type": "code",
   "execution_count": 12,
   "id": "1efedf0f-eaf3-4a25-ab1e-4c0112febc1e",
   "metadata": {},
   "outputs": [
    {
     "name": "stdout",
     "output_type": "stream",
     "text": [
      "{8, 5, 6, 7}\n",
      "{1, 2, 3, 4, 5, 6, 7, 8, 9, 10, 11, 12}\n",
      "{9, 10, 11, 12}\n"
     ]
    }
   ],
   "source": [
    "# set keys\n",
    "i={1,2,3,4,5,6,7,8}\n",
    "a={5,6,7,8,9,10,11,12}\n",
    "x=a.intersection(i)\n",
    "y=a.union(i)\n",
    "z=a.difference(i)\n",
    "print(x)\n",
    "print(y)\n",
    "print(z)\n",
    "\n"
   ]
  },
  {
   "cell_type": "code",
   "execution_count": 19,
   "id": "4274ee0a-13bd-448a-a658-bad708a0f6d7",
   "metadata": {},
   "outputs": [
    {
     "name": "stdin",
     "output_type": "stream",
     "text": [
      "please enter the your birthyear 2008\n"
     ]
    },
    {
     "name": "stdout",
     "output_type": "stream",
     "text": [
      "you are 17 year old\n"
     ]
    }
   ],
   "source": [
    "# age calculator\n",
    "birth_year=int(input(\"please enter the your birthyear\"))\n",
    "current_year=2025\n",
    "age=current_year-birth_year\n",
    "print(\"you are\",age,\"year old\")"
   ]
  },
  {
   "cell_type": "code",
   "execution_count": 16,
   "id": "ebb65906-e715-4341-b924-bbe5cab8fd11",
   "metadata": {},
   "outputs": [
    {
     "name": "stdin",
     "output_type": "stream",
     "text": [
      "your choose this--> 3\n"
     ]
    },
    {
     "name": "stdout",
     "output_type": "stream",
     "text": [
      "3 X 1 = 3\n",
      "3 X 2 = 6\n",
      "3 X 3 = 9\n",
      "3 X 4 = 12\n",
      "3 X 5 = 15\n",
      "3 X 6 = 18\n",
      "3 X 7 = 21\n",
      "3 X 8 = 24\n",
      "3 X 9 = 27\n",
      "3 X 10 = 30\n"
     ]
    }
   ],
   "source": [
    "# the table creator\n",
    "num=int(input(\"your choose this-->\"))\n",
    "i=1\n",
    "while(i<=10):\n",
    "     \n",
    "    print(num,\"X\",i,\"=\",num*i)\n",
    "    \n",
    "    i+=1"
   ]
  },
  {
   "cell_type": "code",
   "execution_count": 17,
   "id": "74eff5e0-7a7b-4403-a43b-8ebf716d8da3",
   "metadata": {},
   "outputs": [
    {
     "name": "stdin",
     "output_type": "stream",
     "text": [
      "--> 4\n",
      "--> 3\n"
     ]
    },
    {
     "name": "stdout",
     "output_type": "stream",
     "text": [
      "large number is: 4.0\n"
     ]
    }
   ],
   "source": [
    "# find the large number\n",
    "a=float(input(\"-->\"))\n",
    "b=float(input(\"-->\"))\n",
    "if (a<b):\n",
    "    print(\"large number is:\",b)\n",
    "elif(a>b):\n",
    "    print(\"large number is:\",a)\n",
    "else:\n",
    "    print(\"both are equal\")"
   ]
  },
  {
   "cell_type": "code",
   "execution_count": 20,
   "id": "e11a185a-aae8-4900-b84c-cf44ece61a9f",
   "metadata": {},
   "outputs": [
    {
     "name": "stdin",
     "output_type": "stream",
     "text": [
      "please enter password--> 32\n",
      "please enter right password 233\n",
      "please enter right password sahil@123\n"
     ]
    },
    {
     "name": "stdout",
     "output_type": "stream",
     "text": [
      "right password\n"
     ]
    }
   ],
   "source": [
    "# password\n",
    "i=str(input(\"please enter password-->\"))    \n",
    "if(i==\"sahil@123\"):\n",
    "         print(\"right password\")     \n",
    "\n",
    "else:\n",
    "    while(i!=\"sahil@123\"):\n",
    "\n",
    "        i=str(input(\"please enter right password\"))    \n",
    "print(\"right password\")"
   ]
  },
  {
   "cell_type": "code",
   "execution_count": 21,
   "id": "8f65dafe-01b4-4dc7-b716-327cc7f23919",
   "metadata": {},
   "outputs": [
    {
     "name": "stdin",
     "output_type": "stream",
     "text": [
      "root is: 3\n"
     ]
    },
    {
     "name": "stdout",
     "output_type": "stream",
     "text": [
      "the square_root of root is: 9.0\n"
     ]
    }
   ],
   "source": [
    "## the square root finder\n",
    "a=float(input(\"root is:\"))\n",
    "square_root=a**2\n",
    "print(\"the square_root of root is:\",square_root)"
   ]
  },
  {
   "cell_type": "code",
   "execution_count": 22,
   "id": "fb354c75-12cc-41d3-b0fc-7f1152ad05fb",
   "metadata": {},
   "outputs": [
    {
     "name": "stdin",
     "output_type": "stream",
     "text": [
      "what is the number 4\n"
     ]
    },
    {
     "name": "stdout",
     "output_type": "stream",
     "text": [
      "even\n"
     ]
    }
   ],
   "source": [
    "# the even or odd\n",
    "a=int(input(\"what is the number\"))\n",
    "if a%2==0:\n",
    "    print(\"even\")\n",
    "else:\n",
    "    print(\"odd\")"
   ]
  },
  {
   "cell_type": "code",
   "execution_count": 23,
   "id": "b17f2dc9-7d9e-4dad-9205-6f95c954d343",
   "metadata": {},
   "outputs": [
    {
     "name": "stdin",
     "output_type": "stream",
     "text": [
      "num1: 23\n",
      "num2: 23\n"
     ]
    },
    {
     "name": "stdout",
     "output_type": "stream",
     "text": [
      "answer: 46\n"
     ]
    }
   ],
   "source": [
    "#addition calculator\n",
    "a=int(input(\"num1:\"))\n",
    "b=int(input(\"num2:\"))\n",
    "num1=a\n",
    "num2=b\n",
    "print(\"answer:\",num1+num2)"
   ]
  },
  {
   "cell_type": "code",
   "execution_count": null,
   "id": "d4ec970d-00eb-4783-baa7-ca28523aed5d",
   "metadata": {},
   "outputs": [
    {
     "name": "stdin",
     "output_type": "stream",
     "text": [
      "Guess a number between 1 and 100:  23\n"
     ]
    },
    {
     "name": "stdout",
     "output_type": "stream",
     "text": [
      "Too low!\n"
     ]
    },
    {
     "name": "stdin",
     "output_type": "stream",
     "text": [
      "Guess a number between 1 and 100:  23\n"
     ]
    },
    {
     "name": "stdout",
     "output_type": "stream",
     "text": [
      "Too low!\n"
     ]
    },
    {
     "name": "stdin",
     "output_type": "stream",
     "text": [
      "Guess a number between 1 and 100:  43\n"
     ]
    },
    {
     "name": "stdout",
     "output_type": "stream",
     "text": [
      "Too low!\n"
     ]
    },
    {
     "name": "stdin",
     "output_type": "stream",
     "text": [
      "Guess a number between 1 and 100:  423124124\n",
      "Guess a number between 1 and 100:  12424\n",
      "Guess a number between 1 and 100:  12412\n",
      "Guess a number between 1 and 100:  24242\n",
      "Guess a number between 1 and 100:  244\n",
      "Guess a number between 1 and 100:  44\n"
     ]
    },
    {
     "name": "stdout",
     "output_type": "stream",
     "text": [
      "Too low!\n"
     ]
    },
    {
     "name": "stdin",
     "output_type": "stream",
     "text": [
      "Guess a number between 1 and 100:  44\n"
     ]
    },
    {
     "name": "stdout",
     "output_type": "stream",
     "text": [
      "Too low!\n"
     ]
    },
    {
     "name": "stdin",
     "output_type": "stream",
     "text": [
      "Guess a number between 1 and 100:  0\n"
     ]
    },
    {
     "name": "stdout",
     "output_type": "stream",
     "text": [
      "Too low!\n"
     ]
    }
   ],
   "source": [
    "#infinite loop\n",
    "import random\n",
    "\n",
    "number = random.randint(1, 100)\n",
    "guess = None\n",
    "\n",
    "while guess != number:\n",
    "    guess = int(input(\"Guess a number between 1 and 100: \"))\n",
    "   \n",
    "    if guess < number:\n",
    "        print(\"Too low!\")\n"
   ]
  },
  {
   "cell_type": "code",
   "execution_count": 2,
   "id": "c1601233-4a91-413e-98c7-dcd1190f596e",
   "metadata": {},
   "outputs": [
    {
     "name": "stdin",
     "output_type": "stream",
     "text": [
      "rupees-> 23\n"
     ]
    },
    {
     "name": "stdout",
     "output_type": "stream",
     "text": [
      "$-> 0.253\n"
     ]
    },
    {
     "name": "stdin",
     "output_type": "stream",
     "text": [
      "dollar-> 23\n"
     ]
    },
    {
     "name": "stdout",
     "output_type": "stream",
     "text": [
      "₹-> 2019.17\n"
     ]
    }
   ],
   "source": [
    "# the indian rupees to us dollar or dollar to indian rupees\n",
    "r=int(input(\"rupees->\"))\n",
    "d=(r*0.011)\n",
    "print(\"$->\",d)\n",
    "\n",
    "d=int(input(\"dollar->\"))\n",
    "r=(d*87.79)\n",
    "print(\"₹->\",r)\n"
   ]
  }
 ],
 "metadata": {
  "kernelspec": {
   "display_name": "Python [conda env:base] *",
   "language": "python",
   "name": "conda-base-py"
  },
  "language_info": {
   "codemirror_mode": {
    "name": "ipython",
    "version": 3
   },
   "file_extension": ".py",
   "mimetype": "text/x-python",
   "name": "python",
   "nbconvert_exporter": "python",
   "pygments_lexer": "ipython3",
   "version": "3.13.5"
  }
 },
 "nbformat": 4,
 "nbformat_minor": 5
}
