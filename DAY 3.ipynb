{
 "cells": [
  {
   "cell_type": "code",
   "execution_count": 8,
   "id": "d8d73d7e-5643-478e-a401-d6b1741bfc2f",
   "metadata": {},
   "outputs": [
    {
     "name": "stdout",
     "output_type": "stream",
     "text": [
      "* \n",
      "* * \n",
      "* * * \n",
      "* * * * \n"
     ]
    }
   ],
   "source": [
    "# the shape of *\n",
    "for a in range(1,5):\n",
    "    print(\"* \"*a)\n",
    "\n"
   ]
  },
  {
   "cell_type": "code",
   "execution_count": null,
   "id": "03ddf714-0367-41d2-9e87-2db2844f24a4",
   "metadata": {},
   "outputs": [],
   "source": []
  },
  {
   "cell_type": "code",
   "execution_count": 35,
   "id": "03c29389-ff66-41e8-907e-5476ceed79cc",
   "metadata": {},
   "outputs": [
    {
     "name": "stdin",
     "output_type": "stream",
     "text": [
      "the number you choose--> 5\n"
     ]
    },
    {
     "name": "stdout",
     "output_type": "stream",
     "text": [
      "is : prime\n"
     ]
    }
   ],
   "source": [
    "# the prime number finder\n",
    "a=int(input(\"the number you choose-->\"))\n",
    "for i in range(2,7):\n",
    "    if a%i==0:\n",
    "        print(\"is : not prime\")\n",
    "        break\n",
    "    else:\n",
    "        print(\"is : prime\")\n",
    "        break"
   ]
  },
  {
   "cell_type": "code",
   "execution_count": 44,
   "id": "2da40f78-3786-4c4b-92fc-c2a02853643f",
   "metadata": {},
   "outputs": [
    {
     "name": "stdout",
     "output_type": "stream",
     "text": [
      "[1]\n",
      "[2, 3]\n",
      "[4, 5, 6]\n",
      "[7, 8, 9, 10]\n"
     ]
    }
   ],
   "source": [
    "# for fun\n",
    "k=1\n",
    "for i in range(1,5):\n",
    "    print(list(range(k,k+i)))\n",
    "    k+=i"
   ]
  },
  {
   "cell_type": "code",
   "execution_count": 48,
   "id": "159ca130-0a49-497a-bccd-c04949bf6402",
   "metadata": {},
   "outputs": [
    {
     "name": "stdin",
     "output_type": "stream",
     "text": [
      "base lenght--> 6576\n",
      "base lenght--> 87897\n",
      "height--> 879\n"
     ]
    },
    {
     "name": "stdout",
     "output_type": "stream",
     "text": [
      "the area is --> 41520883.5\n"
     ]
    }
   ],
   "source": [
    "# trapezoide area finder\n",
    "b1=float(input(\"base lenght-->\"))\n",
    "b2=float(input(\"base lenght-->\"))\n",
    "h=float(input(\"height-->\"))\n",
    "area=1/2*(b1+b2)*h\n",
    "print(\"the area is -->\",area)"
   ]
  },
  {
   "cell_type": "code",
   "execution_count": 51,
   "id": "95fb2d19-2983-4646-a082-455ee2038f95",
   "metadata": {},
   "outputs": [
    {
     "name": "stdin",
     "output_type": "stream",
     "text": [
      "--> 3\n",
      "--> 34\n"
     ]
    },
    {
     "name": "stdout",
     "output_type": "stream",
     "text": [
      "area is --> 51.0\n"
     ]
    }
   ],
   "source": [
    "# rombus area finder\n",
    "h1=float(input(\"-->\"))\n",
    "h2=float(input(\"-->\"))\n",
    "area=1/2*h1*h2\n",
    "print(\"area is -->\",area)"
   ]
  },
  {
   "cell_type": "code",
   "execution_count": 52,
   "id": "8814795e-425a-4fbb-9a0b-2f5b19b7c201",
   "metadata": {},
   "outputs": [
    {
     "name": "stdin",
     "output_type": "stream",
     "text": [
      " 3\n",
      " 4\n"
     ]
    },
    {
     "name": "stdout",
     "output_type": "stream",
     "text": [
      "37.68\n"
     ]
    }
   ],
   "source": [
    "# Ellipse area finder\n",
    "h1=float(input())\n",
    "h2=float(input())\n",
    "area=3.14*h1*h2\n",
    "print(area)"
   ]
  },
  {
   "cell_type": "code",
   "execution_count": 53,
   "id": "07fc88e9-dd88-4236-8716-0c5e9f324517",
   "metadata": {},
   "outputs": [
    {
     "name": "stdin",
     "output_type": "stream",
     "text": [
      "diagonal 1 -> 3\n",
      "diagonal 2 -> 4\n"
     ]
    },
    {
     "name": "stdout",
     "output_type": "stream",
     "text": [
      "the area is--> 6.0\n"
     ]
    }
   ],
   "source": [
    "# kite shape area finder\n",
    "h1=float(input(\"diagonal 1 ->\"))\n",
    "h2=float(input(\"diagonal 2 ->\"))\n",
    "area=1/2*h1*h2\n",
    "print(\"the area is-->\",area)"
   ]
  },
  {
   "cell_type": "code",
   "execution_count": 58,
   "id": "a9449137-4962-4ba7-b7ff-5ef0555ef6f0",
   "metadata": {},
   "outputs": [
    {
     "name": "stdin",
     "output_type": "stream",
     "text": [
      "--> 5\n",
      "--> 4\n"
     ]
    },
    {
     "name": "stdout",
     "output_type": "stream",
     "text": [
      "the area is --> 50.0\n"
     ]
    }
   ],
   "source": [
    "# Sector of a Circle area finder\n",
    "c1=float(input(\"-->\"))\n",
    "c2=float(input(\"-->\"))\n",
    "area=1/2*c1**2*c2\n",
    "print(\"the area is -->\",area)"
   ]
  },
  {
   "cell_type": "code",
   "execution_count": 61,
   "id": "48fa5d65-75ff-4477-a551-dd55f9498da0",
   "metadata": {},
   "outputs": [
    {
     "name": "stdin",
     "output_type": "stream",
     "text": [
      "--> 43\n",
      "--> 5\n"
     ]
    },
    {
     "name": "stdout",
     "output_type": "stream",
     "text": [
      "area is--> 215.0\n"
     ]
    }
   ],
   "source": [
    "# Parallelogram area finder\n",
    "b=float(input(\"-->\"))\n",
    "h=float(input(\"-->\"))\n",
    "area=b*h\n",
    "print(\"area is-->\",area)"
   ]
  },
  {
   "cell_type": "code",
   "execution_count": 62,
   "id": "8c139a88-0259-444d-ac45-ef6971e49dd5",
   "metadata": {},
   "outputs": [
    {
     "name": "stdin",
     "output_type": "stream",
     "text": [
      "lenght--> 43\n",
      "width--> 5\n"
     ]
    },
    {
     "name": "stdout",
     "output_type": "stream",
     "text": [
      "the area is-> 215.0\n"
     ]
    }
   ],
   "source": [
    "l=float(input(\"lenght-->\"))\n",
    "w=float(input(\"width-->\"))\n",
    "area=l*w\n",
    "print(\"the area is->\",area)"
   ]
  },
  {
   "cell_type": "code",
   "execution_count": null,
   "id": "89855c04-692f-4517-a8dc-0ec4022b5080",
   "metadata": {},
   "outputs": [],
   "source": []
  }
 ],
 "metadata": {
  "kernelspec": {
   "display_name": "Python [conda env:base] *",
   "language": "python",
   "name": "conda-base-py"
  },
  "language_info": {
   "codemirror_mode": {
    "name": "ipython",
    "version": 3
   },
   "file_extension": ".py",
   "mimetype": "text/x-python",
   "name": "python",
   "nbconvert_exporter": "python",
   "pygments_lexer": "ipython3",
   "version": "3.13.5"
  }
 },
 "nbformat": 4,
 "nbformat_minor": 5
}
