{
 "cells": [
  {
   "cell_type": "code",
   "execution_count": 85,
   "id": "7b2c227a-7163-4fa7-90dd-f6cacbeaff8e",
   "metadata": {},
   "outputs": [
    {
     "name": "stdin",
     "output_type": "stream",
     "text": [
      "enter the gender of kid  boy / girl : boy\n"
     ]
    },
    {
     "name": "stdout",
     "output_type": "stream",
     "text": [
      "===============================================\n"
     ]
    },
    {
     "name": "stdin",
     "output_type": "stream",
     "text": [
      "enter the father name of kid  : massud\n"
     ]
    },
    {
     "name": "stdout",
     "output_type": "stream",
     "text": [
      "===============================================\n"
     ]
    },
    {
     "name": "stdin",
     "output_type": "stream",
     "text": [
      "enter the mother name of kid  : hina\n"
     ]
    },
    {
     "name": "stdout",
     "output_type": "stream",
     "text": [
      "===============================================\n",
      "name : sami\n"
     ]
    }
   ],
   "source": [
    "# name suggesstion\n",
    "import random\n",
    "z=str(input(\"enter the gender of kid  boy / girl :\"))\n",
    "print(\"===============================================\")\n",
    "i=str(input(\"enter the father name of kid  :\"))\n",
    "print(\"===============================================\")\n",
    "j=str(input(\"enter the mother name of kid  :\"))\n",
    "print(\"===============================================\")\n",
    "if z==\"boy\":\n",
    "    a=random.choice([\"sufiyan\",\"ayan\",\"mujib\",\"arman\",\"umar\",\"rehan\",\"abuzar\",\"nawab\",\"sami\"])\n",
    "    print(\"name :\",a)\n",
    "elif z==\"girl\":\n",
    "    a=random.choice([\"samrin\",\"amrin\",\"khushi\",\"afsana\",\"parvin\",\"zara\",\"aliya\",\"aliza\",\"samyra\"])\n",
    "    print(\"name :\",a)\n",
    "else:\n",
    "    print(\"i dont have names for this gender\")"
   ]
  },
  {
   "cell_type": "code",
   "execution_count": 84,
   "id": "4a9ffc41-c7f5-4f42-aa01-289013b37ed3",
   "metadata": {},
   "outputs": [
    {
     "name": "stdin",
     "output_type": "stream",
     "text": [
      "enter your age : 19\n"
     ]
    },
    {
     "name": "stdout",
     "output_type": "stream",
     "text": [
      "cello\n"
     ]
    }
   ],
   "source": [
    " # perfect pen as your age\n",
    "import random\n",
    "i=int(input(\"enter your age :\"))\n",
    "if i>=10 and i<25:\n",
    "    a=random.choice([\"cello\",\"ox\",\"gripper\",\"paras\",\"goldex\",\"fountain\",\"pentonic\",\"butterflow\"])\n",
    "    print(a)\n",
    "elif i<10 and i>=6:\n",
    "    print(\"use pencile\")\n",
    "elif i<6:\n",
    "    print(\"grow first\")\n",
    "else:\n",
    "    print(\"you are expired for pen\")"
   ]
  },
  {
   "cell_type": "code",
   "execution_count": 4,
   "id": "ae59416e-2c5f-42f2-b82f-730a8a0459d7",
   "metadata": {},
   "outputs": [
    {
     "name": "stdin",
     "output_type": "stream",
     "text": [
      "--enter pin : 1234\n"
     ]
    },
    {
     "name": "stdout",
     "output_type": "stream",
     "text": [
      "================================================================\n",
      "1.deposite\n",
      "2.withdraw\n",
      "3.transfer\n",
      "4.balance\n",
      "5.mini stmt\n",
      "6.exit\n",
      "================================================================\n"
     ]
    },
    {
     "name": "stdin",
     "output_type": "stream",
     "text": [
      "enter the choice 1\n",
      "enter the amount to deposite 1233\n"
     ]
    },
    {
     "name": "stdout",
     "output_type": "stream",
     "text": [
      "your account credit :1233\n",
      "your balance is :1233\n",
      "================================================================\n",
      "1.deposite\n",
      "2.withdraw\n",
      "3.transfer\n",
      "4.balance\n",
      "5.mini stmt\n",
      "6.exit\n",
      "================================================================\n"
     ]
    },
    {
     "name": "stdin",
     "output_type": "stream",
     "text": [
      "enter the choice 2\n",
      "enter the amount you want to withdraw 1213\n"
     ]
    },
    {
     "name": "stdout",
     "output_type": "stream",
     "text": [
      "3215\n"
     ]
    },
    {
     "name": "stdin",
     "output_type": "stream",
     "text": [
      "please enter otp 3215\n"
     ]
    },
    {
     "name": "stdout",
     "output_type": "stream",
     "text": [
      "you debited :1213\n",
      "your balance :100020\n",
      "================================================================\n",
      "1.deposite\n",
      "2.withdraw\n",
      "3.transfer\n",
      "4.balance\n",
      "5.mini stmt\n",
      "6.exit\n",
      "================================================================\n"
     ]
    },
    {
     "name": "stdin",
     "output_type": "stream",
     "text": [
      "enter the choice 3\n",
      "enter the amount you want to transfer 1234\n"
     ]
    },
    {
     "name": "stdout",
     "output_type": "stream",
     "text": [
      "6566\n"
     ]
    },
    {
     "name": "stdin",
     "output_type": "stream",
     "text": [
      "please enter otp 6566\n"
     ]
    },
    {
     "name": "stdout",
     "output_type": "stream",
     "text": [
      "you debited :1234\n",
      "your balance :98786\n",
      "================================================================\n",
      "1.deposite\n",
      "2.withdraw\n",
      "3.transfer\n",
      "4.balance\n",
      "5.mini stmt\n",
      "6.exit\n",
      "================================================================\n"
     ]
    },
    {
     "name": "stdin",
     "output_type": "stream",
     "text": [
      "enter the choice 4\n"
     ]
    },
    {
     "name": "stdout",
     "output_type": "stream",
     "text": [
      "your balance is :98786\n",
      "================================================================\n",
      "1.deposite\n",
      "2.withdraw\n",
      "3.transfer\n",
      "4.balance\n",
      "5.mini stmt\n",
      "6.exit\n",
      "================================================================\n"
     ]
    },
    {
     "name": "stdin",
     "output_type": "stream",
     "text": [
      "enter the choice 5\n"
     ]
    },
    {
     "name": "stdout",
     "output_type": "stream",
     "text": [
      "amount\ttype\ttime\n",
      "[1233, 'credit', datetime.datetime(2025, 10, 1, 20, 15, 26, 883136)]\n",
      "[1213, 'debit', datetime.datetime(2025, 10, 1, 20, 15, 39, 401080)]\n",
      "[1234, 'debit', datetime.datetime(2025, 10, 1, 20, 15, 58, 873163)]\n",
      "================================================================\n",
      "1.deposite\n",
      "2.withdraw\n",
      "3.transfer\n",
      "4.balance\n",
      "5.mini stmt\n",
      "6.exit\n",
      "================================================================\n"
     ]
    },
    {
     "name": "stdin",
     "output_type": "stream",
     "text": [
      "enter the choice 6\n"
     ]
    }
   ],
   "source": [
    "###### import banklog\n",
    "import datetime\n",
    "import random\n",
    "\n",
    "mbal=100000\n",
    "trans=[]\n",
    "pin=int(input(\"--enter pin :\"))\n",
    "if pin==1234:\n",
    "    while True:  \n",
    "        print(\"================================================================\")\n",
    "        print(\"1.deposite\\n2.withdraw\\n3.transfer\\n4.balance\\n5.mini stmt\\n6.exit\")\n",
    "        print(\"================================================================\")\n",
    "        i=int(input(\"enter the choice\"))\n",
    "        if i==1:\n",
    "            amt=int(input(\"enter the amount to deposite\"))\n",
    "            mbal=banklog.deposite(mbal,amt)\n",
    "            print(f\"your account credit :{amt}\\nyour balance is :{amt}\")\n",
    "            trans.append([amt,'credit',datetime.datetime.now()])\n",
    "        elif i==2:\n",
    "            \n",
    "            amt=int(input(\"enter the amount you want to withdraw\"))\n",
    "            if (amt<mbal):\n",
    "                new=random.randint(1000,9999)\n",
    "                print(new)\n",
    "                otp=int(input(\"please enter otp\"))\n",
    "                if new==otp:\n",
    "                    mbal=banklog.withdraw(mbal,amt)\n",
    "                    print(f\"you debited :{amt}\\nyour balance :{mbal}\")\n",
    "                    trans.append([amt,\"debit\",datetime.datetime.now()])\n",
    "                else:\n",
    "                    print(\"incorrect otp\")                  \n",
    "        elif i==3:\n",
    "             amt=int(input(\"enter the amount you want to transfer\"))\n",
    "             if(amt<mbal):\n",
    "                new=random.randint(1000,9999)\n",
    "                print(new)\n",
    "                otp=int(input(\"please enter otp\"))\n",
    "                if new==otp:\n",
    "                    mbal=banklog.withdraw(mbal,amt)\n",
    "                    print(f\"you debited :{amt}\\nyour balance :{mbal}\")\n",
    "                    trans.append([amt,\"debit\",datetime.datetime.now()])\n",
    "                else:\n",
    "                    print(\"incorrect otp\")                \n",
    "        elif i==4:\n",
    "            banklog.balance(mbal)\n",
    "        elif i==5:\n",
    "            banklog.mnst(trans)\n",
    "            \n",
    "        elif i==6:\n",
    "            break\n",
    "        else:\n",
    "            print(\"invalid input,please try again\")\n",
    "\n",
    "else:\n",
    "    print(\"inccorect pin\")"
   ]
  },
  {
   "cell_type": "code",
   "execution_count": 5,
   "id": "510be395-44e0-4f26-aa01-1397fbf1a05a",
   "metadata": {},
   "outputs": [
    {
     "name": "stdout",
     "output_type": "stream",
     "text": [
      "the sum of your guess-> 58112\n",
      "the even number count -> 3\n",
      "the sum of even numbers-> 31570\n",
      "the odd number count-> 6\n",
      "the sum of odd numbers-> 211\n"
     ]
    }
   ],
   "source": [
    "# the odd and even of difined numbers\n",
    "a=[12,331,23123,434,123,413,2341,31124,211]\n",
    "print(\"the sum of your guess->\",sum(a))\n",
    "even_sum=0\n",
    "even_count=0\n",
    "odd_sum=0\n",
    "odd_count=0\n",
    "for i in a:\n",
    "    if i%2== 0:\n",
    "        even_count+=1\n",
    "        even_sum+=i\n",
    "    else:\n",
    "        odd_count+=1\n",
    "        odd_sum=i\n",
    "\n",
    "print(\"the even number count ->\",even_count)\n",
    "print(\"the sum of even numbers->\",even_sum)\n",
    "print(\"the odd number count->\",odd_count)\n",
    "print(\"the sum of odd numbers->\",odd_sum)"
   ]
  },
  {
   "cell_type": "code",
   "execution_count": 7,
   "id": "949d9e07-d372-4ffd-a5b3-de560a0d15a7",
   "metadata": {},
   "outputs": [
    {
     "name": "stdin",
     "output_type": "stream",
     "text": [
      "enter your age: 18\n"
     ]
    },
    {
     "name": "stdout",
     "output_type": "stream",
     "text": [
      "yes!! you can\n"
     ]
    }
   ],
   "source": [
    "# you can vote or not\n",
    "i=int(input(\"enter your age:\"))\n",
    "if i>=18:\n",
    "    print(\"yes!! you can\")\n",
    "else:\n",
    "    print(\"no!! you cant\")"
   ]
  },
  {
   "cell_type": "code",
   "execution_count": 8,
   "id": "ea010021-44bf-4e3c-9a9b-88393d50f512",
   "metadata": {},
   "outputs": [
    {
     "name": "stdin",
     "output_type": "stream",
     "text": [
      " 6\n"
     ]
    },
    {
     "name": "stdout",
     "output_type": "stream",
     "text": [
      "even\n"
     ]
    }
   ],
   "source": [
    "# even or odd in diffrent way\n",
    "def even_odd(num):\n",
    "    if num%2 == 0:\n",
    "        return \"even\"\n",
    "    else:\n",
    "        return \"odd\"\n",
    "\n",
    "i=int(input())\n",
    "a=even_odd(i)\n",
    "print(a)"
   ]
  },
  {
   "cell_type": "code",
   "execution_count": 9,
   "id": "0fe957c2-1018-4195-a7d8-2dd10ea03b1b",
   "metadata": {},
   "outputs": [
    {
     "name": "stdin",
     "output_type": "stream",
     "text": [
      " 7979\n"
     ]
    },
    {
     "name": "stdout",
     "output_type": "stream",
     "text": [
      "prime\n"
     ]
    }
   ],
   "source": [
    "## prime number or not in diffrent way\n",
    "def prime(num):\n",
    "    for i in (2,7):\n",
    "        if num%i == 0:\n",
    "            return \"not prime\"\n",
    "        else:\n",
    "            return \"prime\"\n",
    "\n",
    "n=int(input())\n",
    "a=prime(n)\n",
    "print(a)"
   ]
  },
  {
   "cell_type": "code",
   "execution_count": 10,
   "id": "7376b794-b63c-4938-b0d4-77ee09748938",
   "metadata": {},
   "outputs": [
    {
     "name": "stdin",
     "output_type": "stream",
     "text": [
      "--what date when you born-- : 23\n",
      "--your sirname-- : mirza\n"
     ]
    },
    {
     "name": "stdout",
     "output_type": "stream",
     "text": [
      "luck : 99 %\n"
     ]
    }
   ],
   "source": [
    "# lets find how lucky you are\n",
    "i=str(input(\"--what date when you born-- :\"))\n",
    "j=str(input(\"--your sirname-- :\"))\n",
    "a=random.randint(70,100)\n",
    "print(\"luck :\",a,\"%\")"
   ]
  },
  {
   "cell_type": "code",
   "execution_count": 11,
   "id": "191e17c2-8cd2-45c7-a83d-648d3eea3821",
   "metadata": {},
   "outputs": [
    {
     "name": "stdin",
     "output_type": "stream",
     "text": [
      "you working hard yes/no : yes\n"
     ]
    },
    {
     "name": "stdout",
     "output_type": "stream",
     "text": [
      "per year : 10061 $\n"
     ]
    }
   ],
   "source": [
    "# what salary tou will get in future\n",
    "i=str(input(\"you working hard yes/no :\"))\n",
    "if i==\"yes\":\n",
    "    a=(random.randint(10000,50000))\n",
    "    print(\"per year :\",a,\"$\")\n",
    "else:\n",
    "    print(\"please work hard for good future\")"
   ]
  },
  {
   "cell_type": "code",
   "execution_count": 12,
   "id": "45c5d0ab-82bc-4749-beac-4ea623f90172",
   "metadata": {},
   "outputs": [
    {
     "name": "stdin",
     "output_type": "stream",
     "text": [
      "how many hours you give to your future carrer : 7\n"
     ]
    },
    {
     "name": "stdout",
     "output_type": "stream",
     "text": [
      "82 % chance\n"
     ]
    }
   ],
   "source": [
    "# success chance\n",
    "i=float(input(\"how many hours you give to your future carrer :\"))\n",
    "if i>=2.30 and i<=3.30:\n",
    "    a=random.randint(30,45)\n",
    "    print(a,\"% chance\")\n",
    "elif i>3.30 and i<=4.30:\n",
    "    a=random.randint(45,60)\n",
    "    print(a,\"% chance\")\n",
    "elif i>4.30 and i<=6.00:\n",
    "    a=random.randint(60,80)\n",
    "    print(a,\"% chance\")\n",
    "elif i>6.00 and i<=8.00:\n",
    "    a=random.randint(80,90)\n",
    "    print(a,\"% chance\")\n",
    "elif i>8.00 and i<=11.00:\n",
    "    a=random.randint(90,100)\n",
    "    print(a,\"% chance\")\n",
    "else:\n",
    "    print(\"no chance!\")"
   ]
  }
 ],
 "metadata": {
  "kernelspec": {
   "display_name": "Python [conda env:base] *",
   "language": "python",
   "name": "conda-base-py"
  },
  "language_info": {
   "codemirror_mode": {
    "name": "ipython",
    "version": 3
   },
   "file_extension": ".py",
   "mimetype": "text/x-python",
   "name": "python",
   "nbconvert_exporter": "python",
   "pygments_lexer": "ipython3",
   "version": "3.13.5"
  }
 },
 "nbformat": 4,
 "nbformat_minor": 5
}
