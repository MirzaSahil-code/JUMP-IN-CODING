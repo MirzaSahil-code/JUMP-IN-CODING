{
 "cells": [
  {
   "cell_type": "code",
   "execution_count": 22,
   "id": "9a005edc-c10f-4b7c-a736-3323cb57fb56",
   "metadata": {},
   "outputs": [
    {
     "name": "stdin",
     "output_type": "stream",
     "text": [
      "enter your age: 12\n"
     ]
    },
    {
     "name": "stdout",
     "output_type": "stream",
     "text": [
      "[no you cant drive bike!]\n"
     ]
    }
   ],
   "source": [
    "# you can drive bike or not\n",
    "a=int(input(\"enter your age:\"))\n",
    "if a<18:\n",
    "    print(\"[no you cant drive bike!]\")\n",
    "else:\n",
    "    print(\"[yes you can drive bike!]\")\n"
   ]
  },
  {
   "cell_type": "code",
   "execution_count": 30,
   "id": "6d6d81b5-3c03-40a8-9099-e8ee8dd02e4c",
   "metadata": {},
   "outputs": [
    {
     "name": "stdout",
     "output_type": "stream",
     "text": [
      "the sum of your guess-> 58112\n",
      "the even number count -> 3\n",
      "the sum of even numbers-> 31570\n",
      "the odd number count-> 6\n",
      "the sum of odd numbers-> 211\n"
     ]
    }
   ],
   "source": [
    "# the odd and even of difined numbers\n",
    "a=[12,331,23123,434,123,413,2341,31124,211]\n",
    "print(\"the sum of your guess->\",sum(a))\n",
    "even_sum=0\n",
    "even_count=0\n",
    "odd_sum=0\n",
    "odd_count=0\n",
    "for i in a:\n",
    "    if i%2== 0:\n",
    "        even_count+=1\n",
    "        even_sum+=i\n",
    "    else:\n",
    "        odd_count+=1\n",
    "        odd_sum=i\n",
    "\n",
    "print(\"the even number count ->\",even_count)\n",
    "print(\"the sum of even numbers->\",even_sum)\n",
    "print(\"the odd number count->\",odd_count)\n",
    "print(\"the sum of odd numbers->\",odd_sum)"
   ]
  },
  {
   "cell_type": "code",
   "execution_count": 29,
   "id": "0d2331de-3c1b-4734-bcd1-735762a02188",
   "metadata": {},
   "outputs": [
    {
     "name": "stdin",
     "output_type": "stream",
     "text": [
      "enter your age: 34\n"
     ]
    },
    {
     "name": "stdout",
     "output_type": "stream",
     "text": [
      "yes!! you can\n"
     ]
    }
   ],
   "source": [
    "# you can vote or not\n",
    "i=int(input(\"enter your age:\"))\n",
    "if i>18:\n",
    "    print(\"yes!! you can\")\n",
    "else:\n",
    "    print(\"no!! you cant\")"
   ]
  },
  {
   "cell_type": "code",
   "execution_count": 79,
   "id": "25c8e7c1-7eb5-46e7-91e7-fdd45594ec5a",
   "metadata": {},
   "outputs": [],
   "source": [
    "\n",
    "import datetime\n",
    "from datetime import date\n",
    "from datetime import time\n",
    "from datetime import date, timedelta\n",
    "from datetime import datetime as dt\n"
   ]
  },
  {
   "cell_type": "code",
   "execution_count": 47,
   "id": "a307e0e7-d641-4cce-bb10-0024aaa66022",
   "metadata": {},
   "outputs": [
    {
     "name": "stdout",
     "output_type": "stream",
     "text": [
      "2025-09-23\n"
     ]
    }
   ],
   "source": [
    "# date\n",
    "today=date.today()\n",
    "print(today)"
   ]
  },
  {
   "cell_type": "code",
   "execution_count": 59,
   "id": "cf1cb01c-b827-45f7-9cd8-7037da009b0c",
   "metadata": {},
   "outputs": [
    {
     "name": "stdout",
     "output_type": "stream",
     "text": [
      "2025-09-23 18:51:14.260655\n"
     ]
    }
   ],
   "source": [
    "# clock\n",
    "time=dt.now()\n",
    "print(time)"
   ]
  },
  {
   "cell_type": "code",
   "execution_count": 75,
   "id": "12fe3036-9923-4763-aa96-178f22d3c295",
   "metadata": {},
   "outputs": [
    {
     "name": "stdout",
     "output_type": "stream",
     "text": [
      "7\n"
     ]
    }
   ],
   "source": [
    "# the day when someone born\n",
    "age=date(2008,3,23)\n",
    "day=age.isoweekday()\n",
    "print(day)\n"
   ]
  },
  {
   "cell_type": "code",
   "execution_count": 97,
   "id": "3c1cb68e-155c-4f7d-a202-2088b3744c92",
   "metadata": {},
   "outputs": [
    {
     "name": "stdin",
     "output_type": "stream",
     "text": [
      "how many days you want to add: 2000\n"
     ]
    },
    {
     "name": "stdout",
     "output_type": "stream",
     "text": [
      "the future-> 2031-03-16\n"
     ]
    }
   ],
   "source": [
    "# the future date\n",
    "today=date.today()\n",
    "future_date=today+timedelta(days=int(input(\"how many days you want to add:\")))\n",
    "\n",
    "print(\"the future->\",future_date)"
   ]
  },
  {
   "cell_type": "code",
   "execution_count": 98,
   "id": "d2e824dc-8784-4856-9f62-6f8a2ff5b962",
   "metadata": {},
   "outputs": [
    {
     "name": "stdin",
     "output_type": "stream",
     "text": [
      "how many days you want to sub: 2000\n"
     ]
    },
    {
     "name": "stdout",
     "output_type": "stream",
     "text": [
      "the past-> 2020-04-02\n"
     ]
    }
   ],
   "source": [
    "# the past date \n",
    "today=date.today()\n",
    "past_date=today-timedelta(days=int(input(\"how many days you want to sub:\")))\n",
    "\n",
    "print(\"the past->\",past_date)\n"
   ]
  },
  {
   "cell_type": "code",
   "execution_count": 101,
   "id": "81818695-c644-4a28-a121-ffd4e349bde5",
   "metadata": {},
   "outputs": [
    {
     "name": "stdin",
     "output_type": "stream",
     "text": [
      "the name : sahil\n"
     ]
    },
    {
     "name": "stdout",
     "output_type": "stream",
     "text": [
      "['a', 'h', 'i', 'l', 's']\n"
     ]
    }
   ],
   "source": [
    "# print string with alphabetical order\n",
    "i=str(input(\"the name :\"))\n",
    "a=sorted(i)\n",
    "print(a)"
   ]
  },
  {
   "cell_type": "code",
   "execution_count": null,
   "id": "9d9db0bf-62e0-411e-82fe-baaa985345bf",
   "metadata": {},
   "outputs": [],
   "source": [
    "# print numbers with numaric order\n",
    "i=(input(\"the number\"))\n",
    "a=sorted(i)\n",
    "print(a)"
   ]
  },
  {
   "cell_type": "code",
   "execution_count": null,
   "id": "eaccb4cc-f1e0-4aa7-9a9a-8ecbf8f0cb35",
   "metadata": {},
   "outputs": [],
   "source": []
  }
 ],
 "metadata": {
  "kernelspec": {
   "display_name": "Python [conda env:base] *",
   "language": "python",
   "name": "conda-base-py"
  },
  "language_info": {
   "codemirror_mode": {
    "name": "ipython",
    "version": 3
   },
   "file_extension": ".py",
   "mimetype": "text/x-python",
   "name": "python",
   "nbconvert_exporter": "python",
   "pygments_lexer": "ipython3",
   "version": "3.13.5"
  }
 },
 "nbformat": 4,
 "nbformat_minor": 5
}
