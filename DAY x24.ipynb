{
 "cells": [
  {
   "cell_type": "code",
   "execution_count": 10,
   "id": "4683be74-4e46-46ac-8f11-009e3bb10035",
   "metadata": {},
   "outputs": [
    {
     "name": "stdin",
     "output_type": "stream",
     "text": [
      "number 4\n"
     ]
    },
    {
     "name": "stdout",
     "output_type": "stream",
     "text": [
      "Factorial of 5 is: 24\n"
     ]
    }
   ],
   "source": [
    "# factorial finder\n",
    "def factorial(n):\n",
    "        if n == 0:\n",
    "            return 1\n",
    "        else:\n",
    "            return n * factorial(n-1)\n",
    "print(f\"Factorial of 5 is: {factorial(int(input(\"number\")))}\")"
   ]
  },
  {
   "cell_type": "code",
   "execution_count": 22,
   "id": "70e8ab58-4092-4d35-b6ba-a59cdf754c27",
   "metadata": {},
   "outputs": [
    {
     "name": "stdin",
     "output_type": "stream",
     "text": [
      " 5\n"
     ]
    },
    {
     "name": "stdout",
     "output_type": "stream",
     "text": [
      "0 1 1 2 3 "
     ]
    }
   ],
   "source": [
    "# fibronic sequence\n",
    "def fibonacci(n):\n",
    "        a, b = 0, 1\n",
    "        for _ in range(n):\n",
    "            print(a, end=\" \")\n",
    "            a, b = b, a + b\n",
    "fibonacci(int(input()))"
   ]
  },
  {
   "cell_type": "code",
   "execution_count": 24,
   "id": "e19dc665-88d0-48cc-9b21-d3d7374e8c8f",
   "metadata": {},
   "outputs": [
    {
     "name": "stdin",
     "output_type": "stream",
     "text": [
      " sahil\n"
     ]
    },
    {
     "name": "stdout",
     "output_type": "stream",
     "text": [
      "Reversed string: lihas\n"
     ]
    }
   ],
   "source": [
    "# reverse a string\n",
    "my_string =str(input())\n",
    "reversed_string = my_string[::-1]\n",
    "print(f\"Reversed string: {reversed_string}\")"
   ]
  },
  {
   "cell_type": "code",
   "execution_count": 31,
   "id": "701121ca-ca1b-4bf9-86ea-e880b43f49e7",
   "metadata": {},
   "outputs": [
    {
     "name": "stdout",
     "output_type": "stream",
     "text": [
      "Is 'sahil' a palindrome? False\n"
     ]
    }
   ],
   "source": [
    "# Palindrome Check\n",
    "def is_palindrome(s):\n",
    "    return s == s[::-1]\n",
    "print(f\"Is 'sahil' a palindrome? {is_palindrome('sahil')}\")"
   ]
  },
  {
   "cell_type": "code",
   "execution_count": 34,
   "id": "21a8676f-8c9b-4205-afe3-cb14643075e4",
   "metadata": {},
   "outputs": [
    {
     "name": "stdout",
     "output_type": "stream",
     "text": [
      "Is 2025 a leap year? False\n"
     ]
    }
   ],
   "source": [
    "# Leap Year Check\n",
    "def is_leap_year(year):\n",
    "    return (year % 4 == 0 and year % 100 != 0) or (year % 400 == 0)\n",
    "print(f\"Is 2025 a leap year? {is_leap_year(2025)}\")"
   ]
  },
  {
   "cell_type": "code",
   "execution_count": 36,
   "id": "24538ccc-d060-4bdd-a434-dc3c8a358225",
   "metadata": {},
   "outputs": [
    {
     "name": "stdin",
     "output_type": "stream",
     "text": [
      " 342\n",
      " 5464335\n",
      " 34222\n"
     ]
    },
    {
     "name": "stdout",
     "output_type": "stream",
     "text": [
      "Largest is: 5464335\n"
     ]
    }
   ],
   "source": [
    "# Find the Largest of Three Numbers\n",
    "num1=int(input())\n",
    "num2=int(input())\n",
    "num3=int(input())\n",
    "print(f\"Largest is: {max(num1, num2, num3)}\")"
   ]
  },
  {
   "cell_type": "code",
   "execution_count": 37,
   "id": "b3bdb6d0-a063-4a76-9b25-cd44562c2173",
   "metadata": {},
   "outputs": [
    {
     "name": "stdout",
     "output_type": "stream",
     "text": [
      "Vowel count in 'Programming': 3\n"
     ]
    }
   ],
   "source": [
    "# count vowels in programming string\n",
    "def count_vowels(s):\n",
    "    vowels = \"aeiouAEIOU\"\n",
    "    count = 0\n",
    "    for char in s:\n",
    "        if char in vowels:\n",
    "            count += 1\n",
    "    return count\n",
    "print(f\"Vowel count in 'Programming': {count_vowels('Programming')}\")"
   ]
  },
  {
   "cell_type": "code",
   "execution_count": 41,
   "id": "16d435a6-db02-48a8-b499-42fdad11ab0b",
   "metadata": {},
   "outputs": [
    {
     "name": "stdin",
     "output_type": "stream",
     "text": [
      "number--> 5\n"
     ]
    },
    {
     "name": "stdout",
     "output_type": "stream",
     "text": [
      "5 x 1 = 5\n",
      "5 x 2 = 10\n",
      "5 x 3 = 15\n",
      "5 x 4 = 20\n",
      "5 x 5 = 25\n",
      "5 x 6 = 30\n",
      "5 x 7 = 35\n",
      "5 x 8 = 40\n",
      "5 x 9 = 45\n",
      "5 x 10 = 50\n"
     ]
    }
   ],
   "source": [
    "# multiplicatiom table genrator\n",
    "num = (int(input(\"number-->\")))\n",
    "for i in range(1, 11):\n",
    "    print(f\"{num} x {i} = {num * i}\")"
   ]
  },
  {
   "cell_type": "code",
   "execution_count": null,
   "id": "28cf3e2f-eeb4-44d9-b1bf-d94626ca8c9d",
   "metadata": {},
   "outputs": [],
   "source": [
    "# Find the Maximum Element in a List\n"
   ]
  }
 ],
 "metadata": {
  "kernelspec": {
   "display_name": "Python [conda env:base] *",
   "language": "python",
   "name": "conda-base-py"
  },
  "language_info": {
   "codemirror_mode": {
    "name": "ipython",
    "version": 3
   },
   "file_extension": ".py",
   "mimetype": "text/x-python",
   "name": "python",
   "nbconvert_exporter": "python",
   "pygments_lexer": "ipython3",
   "version": "3.13.5"
  }
 },
 "nbformat": 4,
 "nbformat_minor": 5
}
