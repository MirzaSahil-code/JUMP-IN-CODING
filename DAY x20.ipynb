{
 "cells": [
  {
   "cell_type": "code",
   "execution_count": null,
   "id": "5814f807-8ecc-4af0-abed-75db98a76e43",
   "metadata": {},
   "outputs": [],
   "source": [
    " # area of ractangle in new way\n",
    "def side(n1,n2):\n",
    "    res=n1*n2\n",
    "    return res\n",
    "\n",
    "l=float(input(\"enter the lenght:\"))\n",
    "h=float(input(\"enter the height:\"))\n",
    "a=side(l,h)\n",
    "print(\"the area of given ractangle:\",a)"
   ]
  },
  {
   "cell_type": "code",
   "execution_count": null,
   "id": "9feb246b-f4ca-44bf-8588-d894e6b0aa80",
   "metadata": {},
   "outputs": [],
   "source": [
    "# area of triangle in new way\n",
    "def side(n1,n2):\n",
    "    res=n1*n2/2\n",
    "    return res\n",
    "\n",
    "l=float(input())\n",
    "h=float(input())\n",
    "a=side(l,h)\n",
    "print(a)"
   ]
  },
  {
   "cell_type": "code",
   "execution_count": null,
   "id": "81125ead-8815-4969-aa9d-4f9997555fcc",
   "metadata": {},
   "outputs": [],
   "source": [
    "# the time ai\n",
    "import time\n",
    "a=12\n",
    "i=time.strftime(\"%H:%M:%S\")\n",
    "hour=int(time.strftime(\"%H\"))\n",
    "print(\"current hour\",hour)\n",
    "if 5<= hour <12:\n",
    "    print(\"good morning sir\")\n",
    "elif 12<= hour <17:\n",
    "    print(\"good afternoon sir\")\n",
    "elif 17<= hour <21:\n",
    "    print(\"good evening sir\")\n",
    "else:\n",
    "    print(\"good night sir \")\n"
   ]
  },
  {
   "cell_type": "code",
   "execution_count": null,
   "id": "62a8e74d-c170-420e-acff-cce6013bbfa1",
   "metadata": {},
   "outputs": [],
   "source": [
    "def find_max(lst):\n",
    "    max_val = lst[0]\n",
    "    for num in lst:\n",
    "        if num > max_val:\n",
    "            max_val = num\n",
    "    return max_val\n",
    "\n",
    "print(find_max([3, 7, 2, 9, 5]))"
   ]
  },
  {
   "cell_type": "code",
   "execution_count": null,
   "id": "15e23058-f027-44c3-b50f-19ee907bf7ef",
   "metadata": {},
   "outputs": [],
   "source": [
    "# the odd and even of difined numbers\n",
    "a=[12,331,23123,434,123,413,2341,31124,211]\n",
    "print(\"the sum of your guess->\",sum(a))\n",
    "even_sum=0\n",
    "even_count=0\n",
    "odd_sum=0\n",
    "odd_count=0\n",
    "for i in a:\n",
    "    if i%2== 0:\n",
    "        even_count+=1\n",
    "        even_sum+=i\n",
    "    else:\n",
    "        odd_count+=1\n",
    "        odd_sum=i\n",
    "\n",
    "print(\"the even number count ->\",even_count)\n",
    "print(\"the sum of even numbers->\",even_sum)\n",
    "print(\"the odd number count->\",odd_count)\n",
    "print(\"the sum of odd numbers->\",odd_sum)"
   ]
  },
  {
   "cell_type": "code",
   "execution_count": null,
   "id": "d2d252ed-aa31-4b1d-9232-73e4db08de98",
   "metadata": {},
   "outputs": [],
   "source": [
    "# you can vote or not\n",
    "i=int(input(\"enter your age:\"))\n",
    "if i>18:\n",
    "    print(\"yes!! you can\")\n",
    "else:\n",
    "    print(\"no!! you cant\")"
   ]
  },
  {
   "cell_type": "code",
   "execution_count": null,
   "id": "7d0bc3e6-35c0-4107-8ac4-2649c572d7eb",
   "metadata": {},
   "outputs": [],
   "source": [
    "# Basic Interest Calculator\n",
    "def calculate_interest():\n",
    "    principal = float(input(\"Enter the principal amount: \"))\n",
    "    rate = float(input(\"Enter the rate of interest: \"))\n",
    "    time = float(input(\"Enter the time in years: \"))\n",
    "    \n",
    "    interest = (principal * rate * time) / 100\n",
    "    print(f\"The simple interest is: {interest}\")\n",
    "\n",
    "calculate_interest()"
   ]
  },
  {
   "cell_type": "code",
   "execution_count": null,
   "id": "b139464f-7150-4aee-9ca0-65a0fb8c6905",
   "metadata": {},
   "outputs": [],
   "source": [
    "# sum of numbers from 1 to N\n",
    "def sum_of_numbers():\n",
    "    n = int(input(\"Enter a number: \"))\n",
    "    total = sum(range(1, n+1))\n",
    "    print(f\"The sum of numbers from 1 to {n} is: {total}\")\n",
    "\n",
    "sum_of_numbers()"
   ]
  },
  {
   "cell_type": "code",
   "execution_count": null,
   "id": "17a968de-bef2-4d00-a7e1-8c35d012d2cf",
   "metadata": {},
   "outputs": [],
   "source": [
    "# simple count down timer\n",
    "import time\n",
    "\n",
    "def countdown_timer():\n",
    "    t = int(input(\"Enter time in seconds: \"))\n",
    "    while t >= 0:\n",
    "        minutes, seconds = divmod(t, 60)\n",
    "        print(f\"{minutes:02}:{seconds:02}\", end=\"\\r\")\n",
    "        time.sleep(1)\n",
    "        t -= 1\n",
    "    print(\"Time's up!\")\n",
    "\n",
    "countdown_timer()"
   ]
  },
  {
   "cell_type": "code",
   "execution_count": null,
   "id": "1c11ccfc-ad62-4c07-a3f9-842879905958",
   "metadata": {},
   "outputs": [],
   "source": [
    "# number comparison\n",
    "def compare_numbers():\n",
    "    num1 = int(input(\"Enter the first number: \"))\n",
    "    num2 = int(input(\"Enter the second number: \"))\n",
    "    \n",
    "    if num1 > num2:\n",
    "        print(f\"{num1} is greater than {num2}\")\n",
    "    elif num1 < num2:\n",
    "        print(f\"{num2} is greater than {num1}\")\n",
    "    else:\n",
    "        print(\"Both numbers are equal!\")\n",
    "compare_numbers()"
   ]
  },
  {
   "cell_type": "code",
   "execution_count": null,
   "id": "08bcf1e9-4a54-41a6-a4e2-1732d81d2825",
   "metadata": {},
   "outputs": [],
   "source": []
  }
 ],
 "metadata": {
  "kernelspec": {
   "display_name": "Python [conda env:base] *",
   "language": "python",
   "name": "conda-base-py"
  },
  "language_info": {
   "codemirror_mode": {
    "name": "ipython",
    "version": 3
   },
   "file_extension": ".py",
   "mimetype": "text/x-python",
   "name": "python",
   "nbconvert_exporter": "python",
   "pygments_lexer": "ipython3",
   "version": "3.13.5"
  }
 },
 "nbformat": 4,
 "nbformat_minor": 5
}
