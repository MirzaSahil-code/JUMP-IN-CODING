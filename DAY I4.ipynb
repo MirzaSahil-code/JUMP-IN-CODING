{
 "cells": [
  {
   "cell_type": "code",
   "execution_count": 1,
   "id": "44925eba-f638-4b6d-8d75-2bb8e88bfdc4",
   "metadata": {},
   "outputs": [],
   "source": [
    "import random"
   ]
  },
  {
   "cell_type": "code",
   "execution_count": 7,
   "id": "12fb9635-52dd-4f80-b475-5f4c90d3cfa6",
   "metadata": {},
   "outputs": [
    {
     "name": "stdin",
     "output_type": "stream",
     "text": [
      "Your born day: 23\n",
      "first letter of your name: s\n"
     ]
    },
    {
     "name": "stdout",
     "output_type": "stream",
     "text": [
      "Rip: 96\n"
     ]
    }
   ],
   "source": [
    "# how long you live\n",
    "i=int(input(\"Your born day:\"))\n",
    "j=str(input(\"first letter of your name:\"))\n",
    "a=random.randint(60,100)\n",
    "print(\"Rip:\",a)"
   ]
  },
  {
   "cell_type": "code",
   "execution_count": 9,
   "id": "cc149985-990d-4814-9f70-5924093329a9",
   "metadata": {},
   "outputs": [
    {
     "name": "stdin",
     "output_type": "stream",
     "text": [
      "--guess any number: 2\n"
     ]
    },
    {
     "name": "stdout",
     "output_type": "stream",
     "text": [
      "india won !\n"
     ]
    }
   ],
   "source": [
    "# pakistan vs india\n",
    "i=int(input(\"--guess any number:\"))\n",
    "if i%2==0:\n",
    "    print(\"india won !\")\n",
    "else:\n",
    "    print(\"still india won because i am indian:)\")\n"
   ]
  },
  {
   "cell_type": "code",
   "execution_count": 14,
   "id": "9e78b4e1-5732-4bee-acf0-a48f4d5d268f",
   "metadata": {},
   "outputs": [
    {
     "name": "stdin",
     "output_type": "stream",
     "text": [
      "--Name Of Song-- : kisi ki muskurahato pe\n"
     ]
    },
    {
     "data": {
      "text/plain": [
       "'100 out of 100 awesome choice'"
      ]
     },
     "execution_count": 14,
     "metadata": {},
     "output_type": "execute_result"
    }
   ],
   "source": [
    "# i will rate your fav song\n",
    "i=str(input(\"--Name Of Song-- :\"))\n",
    "random.choice([\"100 out of 100 awesome choice\",\"80 out of 100 legendary song\",\"thats my fav too\",\"20 out of 100 everyone have diffrent choice\"])"
   ]
  },
  {
   "cell_type": "code",
   "execution_count": 21,
   "id": "8605867f-bc66-4fec-8770-2c9e77b09a9c",
   "metadata": {},
   "outputs": [
    {
     "name": "stdin",
     "output_type": "stream",
     "text": [
      "--guess number 1-10--  : 2\n"
     ]
    },
    {
     "data": {
      "text/plain": [
       "'police'"
      ]
     },
     "execution_count": 21,
     "metadata": {},
     "output_type": "execute_result"
    }
   ],
   "source": [
    "# guess a number for future carrer\n",
    "i=int(input(\"--guess number 1-10--  :\"))\n",
    "random.choice([\"police\",\"lawyer\",\"bussiness man\",\"your job is un guesseble\"])\n"
   ]
  },
  {
   "cell_type": "code",
   "execution_count": 27,
   "id": "2bab5b16-9330-4cbb-938a-4b0e69d427bb",
   "metadata": {},
   "outputs": [
    {
     "name": "stdin",
     "output_type": "stream",
     "text": [
      "--what date when you born-- : 23\n",
      "--your sirname-- : mirza\n"
     ]
    },
    {
     "name": "stdout",
     "output_type": "stream",
     "text": [
      "luck : 98 %\n"
     ]
    }
   ],
   "source": [
    "# lets find how lucky you are\n",
    "i=str(input(\"--what date when you born-- :\"))\n",
    "j=str(input(\"--your sirname-- :\"))\n",
    "a=random.randint(70,100)\n",
    "print(\"luck :\",a,\"%\")"
   ]
  },
  {
   "cell_type": "code",
   "execution_count": 20,
   "id": "717acec6-18fa-41eb-a87b-ba228aa542a5",
   "metadata": {},
   "outputs": [
    {
     "name": "stdin",
     "output_type": "stream",
     "text": [
      "--guess the number 1-5: 3\n"
     ]
    },
    {
     "name": "stdout",
     "output_type": "stream",
     "text": [
      "2039\n"
     ]
    }
   ],
   "source": [
    "# which year is lucky for you\n",
    "i=int(input(\"--guess the number 1-5:\"))\n",
    "if i>5:\n",
    "    print(\"dont be oversmart !!\")\n",
    "elif i<=5:\n",
    "    print(random.randint(2026,2050))"
   ]
  },
  {
   "cell_type": "code",
   "execution_count": 9,
   "id": "77e86534-c0ef-4a6f-8e06-5a81e59a2464",
   "metadata": {},
   "outputs": [
    {
     "name": "stdin",
     "output_type": "stream",
     "text": [
      "--what is your age-- : 122\n"
     ]
    },
    {
     "name": "stdout",
     "output_type": "stream",
     "text": [
      "you will get job in heaven\n"
     ]
    }
   ],
   "source": [
    "# in which year you will get job\n",
    "i=int(input(\"--what is your age-- :\"))\n",
    "if i<22 and i>18:\n",
    "   print(random.choice([\"maybe its 2028\",\"maybe its 2029\",\"maybe its 2030\"]))\n",
    "elif i>22 and i<25:\n",
    "    print(random.choice([\"maybe its 2026\",\"maybe its 2027\"]))\n",
    "elif i>25 and i<100:\n",
    "    print(\"you alredy have job or coming soon\")\n",
    "elif i>100:\n",
    "    print(\"you will get job in heaven\")\n",
    "else:\n",
    "    print(\"complete your education first\")"
   ]
  },
  {
   "cell_type": "code",
   "execution_count": 26,
   "id": "43030b95-d95f-4fd2-895c-d288ce7ea5cb",
   "metadata": {},
   "outputs": [
    {
     "name": "stdin",
     "output_type": "stream",
     "text": [
      "you working hard yes/no : no\n"
     ]
    },
    {
     "name": "stdout",
     "output_type": "stream",
     "text": [
      "please work hard for good future\n"
     ]
    }
   ],
   "source": [
    "# what salary tou will get in future\n",
    "i=str(input(\"you working hard yes/no :\"))\n",
    "if i==\"yes\":\n",
    "    a=(random.randint(10000,50000))\n",
    "    print(\"per year :\",a,\"$\")\n",
    "else:\n",
    "    print(\"please work hard for good future\")"
   ]
  },
  {
   "cell_type": "code",
   "execution_count": 48,
   "id": "37a463b8-770f-436e-95d2-2b173e7365de",
   "metadata": {},
   "outputs": [
    {
     "name": "stdin",
     "output_type": "stream",
     "text": [
      "how many hours you give to your future carrer : 7.30\n"
     ]
    },
    {
     "name": "stdout",
     "output_type": "stream",
     "text": [
      "82 % chance\n"
     ]
    }
   ],
   "source": [
    "# success chance\n",
    "i=float(input(\"how many hours you give to your future carrer :\"))\n",
    "if i>=2.30 and i<=3.30:\n",
    "    a=random.randint(30,45)\n",
    "    print(a,\"% chance\")\n",
    "elif i>3.30 and i<=4.30:\n",
    "    a=random.randint(45,60)\n",
    "    print(a,\"% chance\")\n",
    "elif i>4.30 and i<=6.00:\n",
    "    a=random.randint(60,80)\n",
    "    print(a,\"% chance\")\n",
    "elif i>6.00 and i<=8.00:\n",
    "    a=random.randint(80,90)\n",
    "    print(a,\"% chance\")\n",
    "elif i>8.00 and i<=11.00:\n",
    "    a=random.randint(90,100)\n",
    "    print(a,\"% chance\")\n",
    "else:\n",
    "    print(\"no chance!\")\n",
    "    \n",
    "    "
   ]
  },
  {
   "cell_type": "code",
   "execution_count": 53,
   "id": "22d7dc19-1aa0-4127-8b76-7c5f06d1eb64",
   "metadata": {},
   "outputs": [
    {
     "name": "stdin",
     "output_type": "stream",
     "text": [
      "-- enter the am/pm -- : am\n"
     ]
    },
    {
     "name": "stdout",
     "output_type": "stream",
     "text": [
      "your charge : 85 %\n"
     ]
    }
   ],
   "source": [
    "# i will guess your charge\n",
    "i=str(input(\"-- enter the am/pm -- :\"))\n",
    "if i== \"am\":\n",
    "    a=random.randint(70,90)\n",
    "    print(\"your charge :\",a,\"%\")\n",
    "elif i== \"pm\":\n",
    "    a=random.randint(10,70)\n",
    "    print(\"your charge :\",a,\"%\")\n",
    "else:\n",
    "    print(\"incorrect type\")\n",
    "    "
   ]
  },
  {
   "cell_type": "code",
   "execution_count": null,
   "id": "aa6f8610-39b1-4094-a9e1-13dcd855582a",
   "metadata": {},
   "outputs": [],
   "source": []
  }
 ],
 "metadata": {
  "kernelspec": {
   "display_name": "Python [conda env:base] *",
   "language": "python",
   "name": "conda-base-py"
  },
  "language_info": {
   "codemirror_mode": {
    "name": "ipython",
    "version": 3
   },
   "file_extension": ".py",
   "mimetype": "text/x-python",
   "name": "python",
   "nbconvert_exporter": "python",
   "pygments_lexer": "ipython3",
   "version": "3.13.5"
  }
 },
 "nbformat": 4,
 "nbformat_minor": 5
}
