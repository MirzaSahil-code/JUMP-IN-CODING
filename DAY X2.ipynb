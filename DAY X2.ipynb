{
 "cells": [
  {
   "cell_type": "code",
   "execution_count": 3,
   "id": "ef2c23db-c93e-4f3c-86e2-5e4914c3f0e1",
   "metadata": {},
   "outputs": [
    {
     "name": "stdin",
     "output_type": "stream",
     "text": [
      "please enter the your birthyear 2008\n"
     ]
    },
    {
     "name": "stdout",
     "output_type": "stream",
     "text": [
      "you are 17 year old\n"
     ]
    }
   ],
   "source": [
    "# age calculator\n",
    "birth_year=int(input(\"please enter the your birthyear\"))\n",
    "current_year=2025\n",
    "age=current_year-birth_year\n",
    "print(\"you are\",age,\"year old\")"
   ]
  },
  {
   "cell_type": "code",
   "execution_count": 3,
   "id": "fb203edf-57cb-4c1e-a303-fc60e0bdf4f2",
   "metadata": {},
   "outputs": [
    {
     "name": "stdin",
     "output_type": "stream",
     "text": [
      "what is base of square 56476557878\n"
     ]
    },
    {
     "name": "stdout",
     "output_type": "stream",
     "text": [
      "the area of square is  3.189601589747084e+21\n"
     ]
    }
   ],
   "source": [
    "## area of square\n",
    "a=float(input(\"base is:\"))\n",
    "area=a**2\n",
    "print(\"the area of square is: \",area)"
   ]
  },
  {
   "cell_type": "code",
   "execution_count": 6,
   "id": "e6ab786c-94e0-4561-a46c-73d9bc0e81e5",
   "metadata": {},
   "outputs": [
    {
     "name": "stdin",
     "output_type": "stream",
     "text": [
      "base is: 12\n",
      "height is : 12\n"
     ]
    },
    {
     "name": "stdout",
     "output_type": "stream",
     "text": [
      "the area of triangle is: 144.0\n"
     ]
    }
   ],
   "source": [
    "# area of triangle\n",
    "a=float(input(\"base is:\")) \n",
    "b=float(input(\"height is :\"))\n",
    "area=a*b\n",
    "print(\"the area of triangle is:\",area) "
   ]
  },
  {
   "cell_type": "markdown",
   "id": "19120d98-5270-431e-a444-69d2877b3481",
   "metadata": {
    "scrolled": true
   },
   "source": [
    "### area of circle\n",
    "a=float(input(\"radius is:\"))\n",
    "area=3.14159265359*a**2\n",
    "print(\"the area of circle is:\",area)"
   ]
  },
  {
   "cell_type": "code",
   "execution_count": 17,
   "id": "516e2321-d6d2-4479-8390-6d982a8414d0",
   "metadata": {},
   "outputs": [
    {
     "name": "stdin",
     "output_type": "stream",
     "text": [
      "root is: 4\n"
     ]
    },
    {
     "name": "stdout",
     "output_type": "stream",
     "text": [
      "the square_root of root is: 16.0\n"
     ]
    }
   ],
   "source": [
    "## the square root finder\n",
    "a=float(input(\"root is:\"))\n",
    "square_root=a**2\n",
    "print(\"the square_root of root is:\",square_root)"
   ]
  },
  {
   "cell_type": "code",
   "execution_count": 22,
   "id": "83df28ce-4d7b-48b3-84b0-15a352b26664",
   "metadata": {},
   "outputs": [
    {
     "name": "stdin",
     "output_type": "stream",
     "text": [
      "root is: 7\n"
     ]
    },
    {
     "name": "stdout",
     "output_type": "stream",
     "text": [
      "the cube_root of root is: 343.0\n"
     ]
    }
   ],
   "source": [
    "# the cube root finder\n",
    "a=float(input(\"root is:\"))\n",
    "cube_root=a**3\n",
    "print(\"the cube_root of root is:\",cube_root)"
   ]
  },
  {
   "cell_type": "code",
   "execution_count": 25,
   "id": "b3c56e3d-b26f-41d9-83e5-4860f072d87f",
   "metadata": {},
   "outputs": [
    {
     "name": "stdin",
     "output_type": "stream",
     "text": [
      "number is: -1\n"
     ]
    },
    {
     "name": "stdout",
     "output_type": "stream",
     "text": [
      "negative\n"
     ]
    }
   ],
   "source": [
    "# positive or negative\n",
    "a=float(input(\"number is:\"))\n",
    "if(a<0):\n",
    "    print(\"negative\")\n",
    "else:\n",
    "    print(\"positive\")"
   ]
  },
  {
   "cell_type": "code",
   "execution_count": 44,
   "id": "75b9cf7a-f121-4944-9f6a-3d42578229ec",
   "metadata": {},
   "outputs": [
    {
     "name": "stdin",
     "output_type": "stream",
     "text": [
      "what is the number 222222444444\n"
     ]
    },
    {
     "name": "stdout",
     "output_type": "stream",
     "text": [
      "even\n"
     ]
    }
   ],
   "source": [
    "# the even or odd\n",
    "a=int(input(\"what is the number\"))\n",
    "if a%2==0:\n",
    "    print(\"even\")\n",
    "else:\n",
    "    print(\"odd\")"
   ]
  },
  {
   "cell_type": "code",
   "execution_count": 2,
   "id": "c4ccc9ee-d3fc-4ab3-b114-be09853cf492",
   "metadata": {},
   "outputs": [
    {
     "name": "stdin",
     "output_type": "stream",
     "text": [
      "num1: 123\n",
      "num2: 123\n"
     ]
    },
    {
     "name": "stdout",
     "output_type": "stream",
     "text": [
      "answer: 246\n"
     ]
    }
   ],
   "source": [
    "#addition calculator\n",
    "a=int(input(\"num1:\"))\n",
    "b=int(input(\"num2:\"))\n",
    "num1=a\n",
    "num2=b\n",
    "print(\"answer:\",num1+num2)"
   ]
  },
  {
   "cell_type": "code",
   "execution_count": 1,
   "id": "ddad8c3f-1c03-495a-9789-b4ca2c33f478",
   "metadata": {},
   "outputs": [
    {
     "name": "stdin",
     "output_type": "stream",
     "text": [
      "num1: 213\n",
      "num2: 123\n"
     ]
    },
    {
     "name": "stdout",
     "output_type": "stream",
     "text": [
      "answer: 90\n"
     ]
    }
   ],
   "source": [
    "# substraction calculator\n",
    "a=int(input(\"num1:\"))\n",
    "b=int(input(\"num2:\"))\n",
    "num1=a\n",
    "num2=b\n",
    "print(\"answer:\",num1-num2)"
   ]
  },
  {
   "cell_type": "code",
   "execution_count": null,
   "id": "8b060b88-7d2a-4827-ad8b-49abdc57c6c1",
   "metadata": {},
   "outputs": [],
   "source": []
  }
 ],
 "metadata": {
  "kernelspec": {
   "display_name": "Python [conda env:base] *",
   "language": "python",
   "name": "conda-base-py"
  },
  "language_info": {
   "codemirror_mode": {
    "name": "ipython",
    "version": 3
   },
   "file_extension": ".py",
   "mimetype": "text/x-python",
   "name": "python",
   "nbconvert_exporter": "python",
   "pygments_lexer": "ipython3",
   "version": "3.13.5"
  }
 },
 "nbformat": 4,
 "nbformat_minor": 5
}
