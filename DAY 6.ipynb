{
 "cells": [
  {
   "cell_type": "code",
   "execution_count": 1,
   "id": "e3240390-6da0-43b2-9bcd-554bfada1ec8",
   "metadata": {},
   "outputs": [
    {
     "name": "stdin",
     "output_type": "stream",
     "text": [
      "What is your name?  golu\n"
     ]
    },
    {
     "name": "stdout",
     "output_type": "stream",
     "text": [
      "Hello, golu! Welcome to Python.\n"
     ]
    }
   ],
   "source": [
    "# welcome to python\n",
    "def greet_user():\n",
    "    name = input(\"What is your name? \")\n",
    "    print(f\"Hello, {name}! Welcome to Python.\")\n",
    "\n",
    "greet_user()"
   ]
  },
  {
   "cell_type": "code",
   "execution_count": 2,
   "id": "7f8dee6a-9038-424d-b7f3-bbd272cd2d67",
   "metadata": {},
   "outputs": [
    {
     "name": "stdin",
     "output_type": "stream",
     "text": [
      "Enter the principal amount:  45000\n",
      "Enter the rate of interest:  9\n",
      "Enter the time in years:  18\n"
     ]
    },
    {
     "name": "stdout",
     "output_type": "stream",
     "text": [
      "The simple interest is: 72900.0\n"
     ]
    }
   ],
   "source": [
    "# Basic Interest Calculator\n",
    "def calculate_interest():\n",
    "    principal = float(input(\"Enter the principal amount: \"))\n",
    "    rate = float(input(\"Enter the rate of interest: \"))\n",
    "    time = float(input(\"Enter the time in years: \"))\n",
    "    \n",
    "    interest = (principal * rate * time) / 100\n",
    "    print(f\"The simple interest is: {interest}\")\n",
    "\n",
    "calculate_interest()"
   ]
  },
  {
   "cell_type": "code",
   "execution_count": 3,
   "id": "03088c83-5f51-48e5-8038-081e0a895868",
   "metadata": {},
   "outputs": [
    {
     "name": "stdin",
     "output_type": "stream",
     "text": [
      "Enter a number:  93945\n"
     ]
    },
    {
     "name": "stdout",
     "output_type": "stream",
     "text": [
      "The sum of numbers from 1 to 93945 is: 4412878485\n"
     ]
    }
   ],
   "source": [
    "# sum of numbers from 1 to N\n",
    "def sum_of_numbers():\n",
    "    n = int(input(\"Enter a number: \"))\n",
    "    total = sum(range(1, n+1))\n",
    "    print(f\"The sum of numbers from 1 to {n} is: {total}\")\n",
    "\n",
    "sum_of_numbers()"
   ]
  },
  {
   "cell_type": "code",
   "execution_count": 16,
   "id": "d2d1e306-fbd8-47db-a1ce-1ce2d33806d4",
   "metadata": {},
   "outputs": [
    {
     "name": "stdin",
     "output_type": "stream",
     "text": [
      "Enter time in seconds:  30\n"
     ]
    },
    {
     "name": "stdout",
     "output_type": "stream",
     "text": [
      "Time's up!\n"
     ]
    }
   ],
   "source": [
    "# simple count down timer\n",
    "import time\n",
    "\n",
    "def countdown_timer():\n",
    "    t = int(input(\"Enter time in seconds: \"))\n",
    "    while t >= 0:\n",
    "        minutes, seconds = divmod(t, 60)\n",
    "        print(f\"{minutes:02}:{seconds:02}\", end=\"\\r\")\n",
    "        time.sleep(1)\n",
    "        t -= 1\n",
    "    print(\"Time's up!\")\n",
    "\n",
    "countdown_timer()"
   ]
  },
  {
   "cell_type": "code",
   "execution_count": 5,
   "id": "3b3a7f27-19db-4c4b-bfd9-c5a7e9b7821c",
   "metadata": {},
   "outputs": [
    {
     "name": "stdin",
     "output_type": "stream",
     "text": [
      "Enter the first number:  8\n",
      "Enter the second number:  9\n"
     ]
    },
    {
     "name": "stdout",
     "output_type": "stream",
     "text": [
      "9 is greater than 8\n"
     ]
    }
   ],
   "source": [
    "# number comparison\n",
    "def compare_numbers():\n",
    "    num1 = int(input(\"Enter the first number: \"))\n",
    "    num2 = int(input(\"Enter the second number: \"))\n",
    "    \n",
    "    if num1 > num2:\n",
    "        print(f\"{num1} is greater than {num2}\")\n",
    "    elif num1 < num2:\n",
    "        print(f\"{num2} is greater than {num1}\")\n",
    "    else:\n",
    "        print(\"Both numbers are equal!\")\n",
    "compare_numbers()"
   ]
  },
  {
   "cell_type": "code",
   "execution_count": 6,
   "id": "a0e17221-cfee-4db9-b7e2-3979cee958f6",
   "metadata": {},
   "outputs": [
    {
     "name": "stdin",
     "output_type": "stream",
     "text": [
      "Enter a number:  8007400\n"
     ]
    },
    {
     "name": "stdout",
     "output_type": "stream",
     "text": [
      "8007400 is even.\n"
     ]
    }
   ],
   "source": [
    "# even or odd\n",
    "def odd_or_even():\n",
    "    num = int(input(\"Enter a number: \"))\n",
    "    \n",
    "    if num < 0:\n",
    "        print(\"Please enter a positive number.\")\n",
    "    elif num % 2 == 0:\n",
    "        print(f\"{num} is even.\")\n",
    "    else:\n",
    "        print(f\"{num} is odd.\")\n",
    "\n",
    "odd_or_even()\n"
   ]
  },
  {
   "cell_type": "code",
   "execution_count": null,
   "id": "5c166339-6c38-46f1-95a1-a8eccea0b17a",
   "metadata": {},
   "outputs": [],
   "source": [
    "# rows to pattern\n",
    "def print_pattern():\n",
    "    rows = int(input(\"Enter the number of rows for the pattern: \"))\n",
    "    \n",
    "for i in range(1, rows + 1):\n",
    "    print(\"* \" * i)\n",
    "\n",
    "print_pattern()\n",
    "\n",
    "\n",
    "\n"
   ]
  },
  {
   "cell_type": "code",
   "execution_count": null,
   "id": "7ee83b98-62ad-4136-8e74-8df0cc5b3127",
   "metadata": {},
   "outputs": [],
   "source": [
    "# feet to maters\n",
    "def feet_to_meters():\n",
    "    feet = float(input(\"Enter the distance in feet: \"))\n",
    "    meters = feet * 0.3048\n",
    "    print(f\"{feet} feet is equal to {meters} meters.\")\n",
    "\n",
    "feet_to_meters()\n"
   ]
  },
  {
   "cell_type": "code",
   "execution_count": null,
   "id": "7d3f8fcd-d1d0-4086-868d-6788d33db3bb",
   "metadata": {},
   "outputs": [],
   "source": [
    "# square number finder\n",
    "def square_numbers():\n",
    "    numbers = [1, 2, 3, 4, 5]\n",
    "    \n",
    "    for number in numbers:\n",
    "        print(f\"The square of {number} is {number**2}\")\n",
    "\n",
    "square_numbers()\n"
   ]
  },
  {
   "cell_type": "code",
   "execution_count": null,
   "id": "0f2caae4-911f-4068-9e4f-1e32cbd18969",
   "metadata": {},
   "outputs": [],
   "source": [
    "# celsius_to fahrenheit\n",
    "def celsius_to_fahrenheit():\n",
    "    celsius = float(input(\"Enter temperature in Celsius: \"))\n",
    "    fahrenheit = (celsius * 9/5) + 32\n",
    "    print(f\"{celsius}°C is equal to {fahrenheit}°F.\")\n",
    "\n",
    "celsius_to_fahrenheit()\n"
   ]
  },
  {
   "cell_type": "code",
   "execution_count": null,
   "id": "dcc2a879-150b-4fb6-bb9f-3133c7ac49b4",
   "metadata": {},
   "outputs": [],
   "source": []
  }
 ],
 "metadata": {
  "kernelspec": {
   "display_name": "Python [conda env:base] *",
   "language": "python",
   "name": "conda-base-py"
  },
  "language_info": {
   "codemirror_mode": {
    "name": "ipython",
    "version": 3
   },
   "file_extension": ".py",
   "mimetype": "text/x-python",
   "name": "python",
   "nbconvert_exporter": "python",
   "pygments_lexer": "ipython3",
   "version": "3.13.5"
  }
 },
 "nbformat": 4,
 "nbformat_minor": 5
}
