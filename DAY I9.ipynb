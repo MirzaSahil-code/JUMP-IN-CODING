{
 "cells": [
  {
   "cell_type": "markdown",
   "id": "0e9e220e-d0a2-4733-bdd1-3ebb0f6f0b24",
   "metadata": {},
   "source": [
    "some programms from my own created function"
   ]
  },
  {
   "cell_type": "code",
   "execution_count": 4,
   "id": "a9bd02c1-d001-4058-b873-3008ccba4f5b",
   "metadata": {},
   "outputs": [],
   "source": [
    "import mirza"
   ]
  },
  {
   "cell_type": "code",
   "execution_count": 21,
   "id": "048943aa-e41a-4556-8680-05fb77319741",
   "metadata": {},
   "outputs": [
    {
     "name": "stdin",
     "output_type": "stream",
     "text": [
      "please enter number: 32424\n"
     ]
    },
    {
     "data": {
      "text/plain": [
       "'Even'"
      ]
     },
     "execution_count": 21,
     "metadata": {},
     "output_type": "execute_result"
    }
   ],
   "source": [
    "# even od odd\n",
    "a=int(input(\"please enter number:\"))\n",
    "mirza.evod(a)"
   ]
  },
  {
   "cell_type": "code",
   "execution_count": 23,
   "id": "2485fa9f-2250-4f0f-a403-8e1828af7179",
   "metadata": {},
   "outputs": [
    {
     "name": "stdin",
     "output_type": "stream",
     "text": [
      "First num: 2\n",
      "Second num: 3\n"
     ]
    },
    {
     "data": {
      "text/plain": [
       "5"
      ]
     },
     "execution_count": 23,
     "metadata": {},
     "output_type": "execute_result"
    }
   ],
   "source": [
    "# addition\n",
    "i=int(input(\"First num:\"))\n",
    "j=int(input(\"Second num:\"))\n",
    "mirza.add(i,j)"
   ]
  },
  {
   "cell_type": "code",
   "execution_count": 25,
   "id": "8adf996b-d721-4845-940c-fcbd1a1b5978",
   "metadata": {},
   "outputs": [
    {
     "name": "stdin",
     "output_type": "stream",
     "text": [
      "First num: 5\n",
      "Second num: 3\n"
     ]
    },
    {
     "data": {
      "text/plain": [
       "2"
      ]
     },
     "execution_count": 25,
     "metadata": {},
     "output_type": "execute_result"
    }
   ],
   "source": [
    "# substraction\n",
    "i=int(input(\"First num:\"))\n",
    "j=int(input(\"Second num:\"))\n",
    "mirza.sub(i,j)"
   ]
  },
  {
   "cell_type": "code",
   "execution_count": 26,
   "id": "e82cfb1b-9593-46cf-96d4-837abcada463",
   "metadata": {},
   "outputs": [
    {
     "name": "stdin",
     "output_type": "stream",
     "text": [
      "First num: 2\n",
      "Second num: 4\n"
     ]
    },
    {
     "data": {
      "text/plain": [
       "8"
      ]
     },
     "execution_count": 26,
     "metadata": {},
     "output_type": "execute_result"
    }
   ],
   "source": [
    "# multiplication\n",
    "i=int(input(\"First num:\"))\n",
    "j=int(input(\"Second num:\"))\n",
    "mirza.mult(i,j)"
   ]
  },
  {
   "cell_type": "code",
   "execution_count": 27,
   "id": "b80b04d1-561c-46d9-aa75-6eefec2164f2",
   "metadata": {},
   "outputs": [
    {
     "name": "stdin",
     "output_type": "stream",
     "text": [
      "First num: 4\n",
      "Second num: 5\n"
     ]
    },
    {
     "data": {
      "text/plain": [
       "0.8"
      ]
     },
     "execution_count": 27,
     "metadata": {},
     "output_type": "execute_result"
    }
   ],
   "source": [
    "# divide\n",
    "i=int(input(\"First num:\"))\n",
    "j=int(input(\"Second num:\"))\n",
    "mirza.div(i,j)\n"
   ]
  },
  {
   "cell_type": "code",
   "execution_count": 36,
   "id": "e425df7c-7989-45c9-819e-e71b4c31c94f",
   "metadata": {},
   "outputs": [
    {
     "name": "stdin",
     "output_type": "stream",
     "text": [
      "num: 21\n"
     ]
    },
    {
     "data": {
      "text/plain": [
       "441"
      ]
     },
     "execution_count": 36,
     "metadata": {},
     "output_type": "execute_result"
    }
   ],
   "source": [
    "# square root\n",
    "a=int(input(\"num:\"))\n",
    "mirza.sq(a)"
   ]
  },
  {
   "cell_type": "code",
   "execution_count": 6,
   "id": "76467800-31f3-46b8-a238-8ab234f7061f",
   "metadata": {},
   "outputs": [
    {
     "name": "stdin",
     "output_type": "stream",
     "text": [
      "num: 4\n"
     ]
    },
    {
     "data": {
      "text/plain": [
       "64"
      ]
     },
     "execution_count": 6,
     "metadata": {},
     "output_type": "execute_result"
    }
   ],
   "source": [
    "# cube root\n",
    "a=int(input(\"num:\"))\n",
    "mirza.cb(a)"
   ]
  },
  {
   "cell_type": "code",
   "execution_count": 10,
   "id": "adb28800-0eb0-4ab6-8613-83de5c88c647",
   "metadata": {},
   "outputs": [
    {
     "name": "stdin",
     "output_type": "stream",
     "text": [
      "First num: 100000000000\n",
      "Second num: 99999999999\n"
     ]
    },
    {
     "name": "stdout",
     "output_type": "stream",
     "text": [
      "100000000000 is greater\n"
     ]
    }
   ],
   "source": [
    "# greater or smaller\n",
    "i=int(input(\"First num:\"))\n",
    "j=int(input(\"Second num:\"))\n",
    "mirza.gs(i,j)"
   ]
  },
  {
   "cell_type": "code",
   "execution_count": 15,
   "id": "99718c53-76bb-4fbd-bf15-6d53c7d7986e",
   "metadata": {},
   "outputs": [
    {
     "name": "stdin",
     "output_type": "stream",
     "text": [
      "number: 30\n"
     ]
    },
    {
     "name": "stdout",
     "output_type": "stream",
     "text": [
      "30 X 1 = 30\n",
      "30 X 2 = 60\n",
      "30 X 3 = 90\n",
      "30 X 4 = 120\n",
      "30 X 5 = 150\n",
      "30 X 6 = 180\n",
      "30 X 7 = 210\n",
      "30 X 8 = 240\n",
      "30 X 9 = 270\n",
      "30 X 10 = 300\n"
     ]
    }
   ],
   "source": [
    "# multiplication table\n",
    "a=int(input(\"number:\"))\n",
    "mirza.table(a)\n"
   ]
  }
 ],
 "metadata": {
  "kernelspec": {
   "display_name": "Python [conda env:base] *",
   "language": "python",
   "name": "conda-base-py"
  },
  "language_info": {
   "codemirror_mode": {
    "name": "ipython",
    "version": 3
   },
   "file_extension": ".py",
   "mimetype": "text/x-python",
   "name": "python",
   "nbconvert_exporter": "python",
   "pygments_lexer": "ipython3",
   "version": "3.13.5"
  }
 },
 "nbformat": 4,
 "nbformat_minor": 5
}
