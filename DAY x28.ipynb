{
 "cells": [
  {
   "cell_type": "code",
   "execution_count": 2,
   "id": "7af73646-f0e8-4596-abff-c39384a96fb7",
   "metadata": {},
   "outputs": [
    {
     "name": "stdin",
     "output_type": "stream",
     "text": [
      "Enter Number: 17\n"
     ]
    },
    {
     "name": "stdout",
     "output_type": "stream",
     "text": [
      "Number is Odd\n",
      "End\n"
     ]
    }
   ],
   "source": [
    "#Create a Python code to find out if a number is even or odd.\n",
    "a=int(input(\"Enter Number:\"))\n",
    "\n",
    "if (a%2==0):\n",
    "\n",
    "    print(\"Number is Even\")\n",
    "\n",
    "else:\n",
    "\n",
    "    print (\"Number is Odd\")\n",
    "\n",
    "print(\"End\")\n",
    "\n",
    "    \n"
   ]
  },
  {
   "cell_type": "code",
   "execution_count": 38,
   "id": "1823742d-4b9e-4515-a161-8a5512ec0708",
   "metadata": {},
   "outputs": [
    {
     "name": "stdout",
     "output_type": "stream",
     "text": [
      "<class 'float'>\n",
      "<class 'str'>\n",
      "end\n"
     ]
    }
   ],
   "source": [
    "#Create a Python code to find out the datatype of the given variabe.\n",
    "a=7.63\n",
    "\n",
    "print(type(a))\n",
    "\n",
    "b=str(a)\n",
    "\n",
    "print(type(b))\n",
    "\n",
    "print('end')\n"
   ]
  },
  {
   "cell_type": "code",
   "execution_count": 25,
   "id": "67d01949-ab3b-4ff0-badd-d681c6619029",
   "metadata": {},
   "outputs": [
    {
     "name": "stdin",
     "output_type": "stream",
     "text": [
      "Enter Number 15\n",
      "Enter Number 14\n"
     ]
    },
    {
     "name": "stdout",
     "output_type": "stream",
     "text": [
      "29\n"
     ]
    }
   ],
   "source": [
    "#Create a Python code for addition of two numbers.\n",
    "a=int(input(\"Enter Number\"))\n",
    "\n",
    "b=int(input(\"Enter Number\"))\n",
    "\n",
    "result=a+b\n",
    "\n",
    "print(result)\n"
   ]
  },
  {
   "cell_type": "code",
   "execution_count": 26,
   "id": "a5aaba23-b1bf-45fb-8c11-33cc5a5bab17",
   "metadata": {},
   "outputs": [
    {
     "name": "stdin",
     "output_type": "stream",
     "text": [
      "Enter Number 45\n",
      "Enter Number 46\n"
     ]
    },
    {
     "name": "stdout",
     "output_type": "stream",
     "text": [
      "-1\n"
     ]
    }
   ],
   "source": [
    "#Create a Python code for substraction of twoo numbers.\n",
    "a=int(input(\"Enter Number\"))\n",
    "\n",
    "b=int(input(\"Enter Number\"))\n",
    "\n",
    "result=a-b\n",
    "\n",
    "print(result)\n"
   ]
  },
  {
   "cell_type": "code",
   "execution_count": 47,
   "id": "c1dcaf4a-3c1c-425d-b3e4-5b2d348e8bb0",
   "metadata": {
    "scrolled": true
   },
   "outputs": [
    {
     "name": "stdin",
     "output_type": "stream",
     "text": [
      "Enter Number 34\n",
      "Enter Number 45\n"
     ]
    },
    {
     "name": "stdout",
     "output_type": "stream",
     "text": [
      "1530\n"
     ]
    }
   ],
   "source": [
    "#Create a Python code for multiplication of two numbers.\n",
    "a=int(input(\"Enter Number\"))\n",
    "\n",
    "b=int(input(\"Enter Number\"))\n",
    "\n",
    "result=a*b\n",
    "\n",
    "print(result)"
   ]
  },
  {
   "cell_type": "code",
   "execution_count": 45,
   "id": "3ee9f6e1-9b82-4a04-ab0c-54dd2db487d7",
   "metadata": {},
   "outputs": [
    {
     "name": "stdin",
     "output_type": "stream",
     "text": [
      "Enter Number 56\n",
      "Enter Number 67\n"
     ]
    },
    {
     "name": "stdout",
     "output_type": "stream",
     "text": [
      "56\n"
     ]
    }
   ],
   "source": [
    "#Create a Python code for division of two numbers.\n",
    "a=int(input(\"Enter Number\"))\n",
    "\n",
    "b=int(input(\"Enter Number\"))\n",
    "\n",
    "result=a%b\n",
    "\n",
    "print(result)"
   ]
  },
  {
   "cell_type": "code",
   "execution_count": 41,
   "id": "c822882d-b1d0-42df-b072-1014f7960419",
   "metadata": {},
   "outputs": [
    {
     "name": "stdin",
     "output_type": "stream",
     "text": [
      "Enter Number 5.5\n",
      "Enter Number 5.5\n"
     ]
    },
    {
     "name": "stdout",
     "output_type": "stream",
     "text": [
      "Both Are Equal\n",
      "End\n"
     ]
    }
   ],
   "source": [
    "#Create a Python code to find greater between two numbers.\n",
    "a=int,float(input(\"Enter Number\"))\n",
    "b=int,float(input(\"Enter Number\"))\n",
    "if(a>b):\n",
    "    print(\"A is Greater\")\n",
    "    print(\"inside if\")\n",
    "elif(b>a):\n",
    "    print(\"B is Greater\")\n",
    "    print(\"inside elif\")\n",
    "else:\n",
    "    print(\"Both Are Equal\")\n",
    "print(\"End\")"
   ]
  },
  {
   "cell_type": "code",
   "execution_count": 48,
   "id": "d2d8bd3d-311e-4c50-b1c7-c9178ee5aa1e",
   "metadata": {},
   "outputs": [
    {
     "name": "stdin",
     "output_type": "stream",
     "text": [
      "Enter Number 44\n"
     ]
    },
    {
     "name": "stdout",
     "output_type": "stream",
     "text": [
      "Number is Positive\n",
      "Inside If\n"
     ]
    }
   ],
   "source": [
    "#Create a Python code to find if the number is positive or negative.\n",
    "a=int(input(\"Enter Number\"))\n",
    "if (a>0):\n",
    "    print(\"Number is Positive\")\n",
    "    print(\"Inside If\")\n",
    "else:\n",
    "    print(\"Number is Negative\")"
   ]
  },
  {
   "cell_type": "code",
   "execution_count": 51,
   "id": "5882469a-ad25-4b16-b298-f46e2c9b906f",
   "metadata": {},
   "outputs": [
    {
     "name": "stdin",
     "output_type": "stream",
     "text": [
      "Enter Number 7\n"
     ]
    },
    {
     "name": "stdout",
     "output_type": "stream",
     "text": [
      "7\n",
      "14\n",
      "21\n",
      "28\n",
      "35\n",
      "42\n",
      "49\n",
      "56\n",
      "63\n",
      "70\n",
      "End\n",
      "Last Value Of i 11\n"
     ]
    }
   ],
   "source": [
    "#Create a Python code to print increment in numbers.\n",
    "a=int(input(\"Enter Number\"))\n",
    "i=1\n",
    "while(i<=10):\n",
    "    print(a*i)\n",
    "    i+=1\n",
    "\n",
    "print (\"End\")\n",
    "print(\"Last Value Of i\",i)"
   ]
  },
  {
   "cell_type": "code",
   "execution_count": 52,
   "id": "05d2b60a-057a-40da-be53-39d5dab97c2f",
   "metadata": {},
   "outputs": [
    {
     "name": "stdin",
     "output_type": "stream",
     "text": [
      "Enter Number 100\n"
     ]
    },
    {
     "name": "stdout",
     "output_type": "stream",
     "text": [
      "100\n",
      "99\n",
      "98\n",
      "97\n",
      "96\n",
      "95\n",
      "94\n",
      "93\n",
      "92\n",
      "91\n",
      "90\n",
      "89\n",
      "88\n",
      "87\n",
      "86\n",
      "85\n",
      "84\n",
      "83\n",
      "82\n",
      "81\n",
      "80\n",
      "79\n",
      "78\n",
      "77\n",
      "76\n",
      "75\n",
      "74\n",
      "73\n",
      "72\n",
      "71\n",
      "70\n",
      "69\n",
      "68\n",
      "67\n",
      "66\n",
      "65\n",
      "64\n",
      "63\n",
      "62\n",
      "61\n",
      "60\n",
      "59\n",
      "58\n",
      "57\n",
      "56\n",
      "55\n",
      "54\n",
      "53\n",
      "52\n",
      "51\n",
      "50\n",
      "49\n",
      "48\n",
      "47\n",
      "46\n",
      "45\n",
      "44\n",
      "43\n",
      "42\n",
      "41\n",
      "40\n",
      "39\n",
      "38\n",
      "37\n",
      "36\n",
      "35\n",
      "34\n",
      "33\n",
      "32\n",
      "31\n",
      "30\n",
      "29\n",
      "28\n",
      "27\n",
      "26\n",
      "25\n",
      "24\n",
      "23\n",
      "22\n",
      "21\n",
      "20\n",
      "19\n",
      "18\n",
      "17\n",
      "16\n",
      "15\n",
      "14\n",
      "13\n",
      "12\n",
      "11\n",
      "10\n",
      "9\n",
      "8\n",
      "7\n",
      "6\n",
      "5\n",
      "4\n",
      "3\n",
      "2\n",
      "1\n",
      "End\n",
      "Last i Value 0\n"
     ]
    }
   ],
   "source": [
    "#Create a Python code to print decrement in numbers.\n",
    "i=int(input(\"Enter Number\"))\n",
    "while(i>=1):\n",
    "    print(i)\n",
    "    i-=1\n",
    "\n",
    "print(\"End\")\n",
    "print(\"Last i Value\",i)"
   ]
  },
  {
   "cell_type": "code",
   "execution_count": null,
   "id": "f4d984d5-a1d1-43f7-bf4e-3432190b1a6e",
   "metadata": {},
   "outputs": [],
   "source": []
  }
 ],
 "metadata": {
  "kernelspec": {
   "display_name": "Python 3 (ipykernel)",
   "language": "python",
   "name": "python3"
  },
  "language_info": {
   "codemirror_mode": {
    "name": "ipython",
    "version": 3
   },
   "file_extension": ".py",
   "mimetype": "text/x-python",
   "name": "python",
   "nbconvert_exporter": "python",
   "pygments_lexer": "ipython3",
   "version": "3.13.5"
  }
 },
 "nbformat": 4,
 "nbformat_minor": 5
}
